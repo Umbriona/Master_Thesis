{
 "cells": [
  {
   "cell_type": "markdown",
   "metadata": {},
   "source": [
    "# Meeting Aleksej 07-03-2019\n",
    "---\n",
    "## Daset \n",
    "\n",
    "### Data bases\n",
    "    *Chembl\n",
    "    *Zink\n",
    "\n",
    "Molecule Net\n",
    "    \n",
    "### What to select\n",
    "    *Target Assay data\n",
    "    *Cell Assay data\n",
    "\n",
    "Subset 5000 for with lowest dimension\n",
    "    \n",
    "## Molecular representation\n",
    "\n",
    "### Fingerprint    \n",
    "    *ECFP \n",
    "        -Different levels (1-4)\n",
    "        -Vector length (1024-4096)\n",
    "        -Folding sparse vectors\n",
    "    *Morgan circular fingerprints\n",
    "    *Other methods in RDkit\n",
    "    *Open Babel\n",
    "\n",
    "Rcpi look for bio similarity package (Look for fingerprint package)\n",
    "Dimentionaly reduction schema for chemical space \n",
    "Reaction GAN (Google)\n",
    "\n",
    "### Similarities  \n",
    "    *Tanimoto similarity\n",
    "        -Tversky\n",
    "        -Dice\n",
    "    "
   ]
  },
  {
   "cell_type": "code",
   "execution_count": null,
   "metadata": {},
   "outputs": [],
   "source": []
  }
 ],
 "metadata": {
  "kernelspec": {
   "display_name": "Python 3",
   "language": "python",
   "name": "python3"
  },
  "language_info": {
   "codemirror_mode": {
    "name": "ipython",
    "version": 3
   },
   "file_extension": ".py",
   "mimetype": "text/x-python",
   "name": "python",
   "nbconvert_exporter": "python",
   "pygments_lexer": "ipython3",
   "version": "3.6.5"
  }
 },
 "nbformat": 4,
 "nbformat_minor": 2
}
