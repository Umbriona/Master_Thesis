{
 "cells": [
  {
   "cell_type": "code",
   "execution_count": 22,
   "metadata": {},
   "outputs": [],
   "source": [
    "import numpy as np\n",
    "import pandas as pd\n",
    "import matplotlib.pyplot as plt\n",
    "import os\n",
    "\n",
    "\n"
   ]
  },
  {
   "cell_type": "code",
   "execution_count": 26,
   "metadata": {},
   "outputs": [],
   "source": [
    "## Path and parse\n",
    "\n",
    "paths = {}\n",
    "files = {}\n",
    "data_sets = {}\n",
    "tmp = []\n",
    "f =open('Path_and_File.txt','r')\n",
    "string = f.read()\n",
    "list_1 = string.split('##')\n",
    "\n",
    "\n",
    "[tmp.append(x.split('=')[0].rstrip()) for x in list_1[1].split('#')[1:]]\n",
    "[paths.update({i : []} )for i in tmp]\n",
    "[paths[x.split('=')[0].rstrip()].append(x.split('= ')[1].rstrip()) for x in list_1[1].split('#')[1:]]\n",
    "tmp=[]\n",
    "[tmp.append(x.split('=')[0].rstrip()) for x in list_1[2].split('#')[1:]]\n",
    "[files.update({i : []} )for i in tmp]\n",
    "[files[x.split('=')[0].rstrip()].append(x.split('= ')[1].rstrip()) for x in list_1[2].split('#')[1:]]\n",
    "tmp = []\n",
    "[tmp.append(x.split('=')[0].rstrip()) for x in list_1[3].split('#')[1:]]\n",
    "[data_sets.update({i : []} )for i in tmp]\n",
    "[data_sets[x.split('=')[0].rstrip()].append(x.split('= ')[1].rstrip()) for x in list_1[3].split('#')[1:]]\n",
    "f.close()\n"
   ]
  },
  {
   "cell_type": "code",
   "execution_count": null,
   "metadata": {},
   "outputs": [],
   "source": [
    "#plot scatter\n",
    "path_label = '/mnt/SSD1/data/cluster_label/LD50/'\n",
    "path_unsuper = '/mnt/SSD1/data/cluster/LD50/'\n",
    "list_df_label = []\n",
    "list_df_unsuper = []\n",
    "\n",
    "for i in os.listdir(path_label):\n",
    "    list_df_label.append(pd.read_csv(os.path.join(path_label,i)))\n",
    "for i in os.listdir(path_unsuper):\n",
    "    list_df_unsuper.append(pd.read_csv(os.path.join(path_unsuper,i)))"
   ]
  },
  {
   "cell_type": "code",
   "execution_count": null,
   "metadata": {},
   "outputs": [],
   "source": [
    "# epoch_label = list_df_label[499]\n",
    "from time import sleep\n",
    "\n",
    "for i in range(len(list_df_label)):\n",
    "    epoch_label = list_df_label[i]\n",
    "    fig = plt.figure(figsize = (8,8))\n",
    "    ax = fig.add_subplot(1,1,1) \n",
    "    ax.set_xlabel('Principal Component 1', fontsize = 15)\n",
    "    ax.set_ylabel('Principal Component 2', fontsize = 15)\n",
    "    ax.set_title('2 component PCA', fontsize = 20)\n",
    "\n",
    "    targets = ['0', '1', '2', '3', '4', '5', '6', '7', '8', '9']\n",
    "\n",
    "    colors = ['0.1', '0.2', '0.3', '0.4', '0.5', '0.6', '0.7', '0.8', '0.9', '1.0']\n",
    "    colors_list = [colors[x] for x in epoch_label['label']]\n",
    "    ax.scatter(epoch_label[ 'principal component 1']\n",
    "               , epoch_label['principal component 2']\n",
    "               , c = colors_list\n",
    "               , s = 50)\n",
    "    ax.legend(targets)\n",
    "    ax.grid()\n",
    "    plt.show()\n",
    "    sleep(0.2)\n",
    "    "
   ]
  },
  {
   "cell_type": "code",
   "execution_count": 60,
   "metadata": {},
   "outputs": [
    {
     "name": "stdout",
     "output_type": "stream",
     "text": [
      "[[ 0.000000e+00  1.002196e+00 -2.920000e-04  9.977670e-01]\n",
      " [ 5.000000e+00  9.244950e-01 -8.278000e-03  9.861420e-01]\n",
      " [ 1.000000e+01  7.750360e-01 -5.210000e-02  9.668660e-01]\n",
      " ...\n",
      " [ 1.985000e+03  3.302569e+00 -7.777300e-01  5.429710e-01]\n",
      " [ 1.990000e+03  3.343166e+00 -7.535310e-01  5.344040e-01]\n",
      " [ 1.995000e+03  3.091855e+00 -7.347430e-01  4.268800e-01]]\n"
     ]
    }
   ],
   "source": [
    "path_labeld_train_data = '/mnt/SSD1/data/LD50/LD50_training_labeld_data/'\n",
    "path_unsuper_train_data = '/mnt/SSD1/data/LD50/LD50_training_data/'\n",
    "\n",
    "data_set = 'LD50'\n",
    "file_name = file_name = files['Training data file name'][0] + data_set\n",
    "f_l = open(os.path.join(path_labeld_train_data, file_name),'r')\n",
    "\n",
    "epoch = []\n",
    "disLoss = []\n",
    "encLoss = []\n",
    "decLoss = []\n",
    "\n",
    "string_labeld_data = f_l.read()\n",
    "list_labeld_data = string_labeld_data.split('\\n')\n",
    "\n",
    "l = [np.float_(i.split(';')) for i in list_labeld_data[:400]]\n",
    "l = np.array(l)\n",
    "\n",
    "print(l)"
   ]
  },
  {
   "cell_type": "code",
   "execution_count": null,
   "metadata": {},
   "outputs": [],
   "source": []
  }
 ],
 "metadata": {
  "kernelspec": {
   "display_name": "Python 3",
   "language": "python",
   "name": "python3"
  },
  "language_info": {
   "codemirror_mode": {
    "name": "ipython",
    "version": 3
   },
   "file_extension": ".py",
   "mimetype": "text/x-python",
   "name": "python",
   "nbconvert_exporter": "python",
   "pygments_lexer": "ipython3",
   "version": "3.6.8"
  }
 },
 "nbformat": 4,
 "nbformat_minor": 2
}
