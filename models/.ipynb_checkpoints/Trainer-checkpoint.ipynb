{
 "cells": [
  {
   "cell_type": "code",
   "execution_count": 1,
   "metadata": {
    "scrolled": false
   },
   "outputs": [],
   "source": [
    "%matplotlib notebook\n",
    "import time\n",
    "import tensorflow as tf\n",
    "import tensorflow_probability as tfp\n",
    "import numpy as np\n",
    "\n",
    "import matplotlib.pyplot as plt\n",
    "\n",
    "import distrib \n",
    "import data_process as dp\n",
    "import modules as module\n",
    "import log as log\n",
    "import view\n",
    "import Gaussian_mixture as GM\n",
    "import similarity as sim\n",
    "import math\n",
    "\n",
    "import os\n",
    "from multiprocessing import Process"
   ]
  },
  {
   "cell_type": "code",
   "execution_count": 2,
   "metadata": {},
   "outputs": [],
   "source": [
    "\n",
    "\n",
    "def train(vi=None,device = '/gpu:1', label_Flag = False, fps = 'Morgan',pro='psa', fps_size = 512,nclass = 2):\n",
    "    #Data set\n",
    "    ds = 'HIV'\n",
    "    prop = pro\n",
    "    \n",
    "    #Settings\n",
    "    \n",
    "    if fps == 'Maccs':\n",
    "        fps_size = 167\n",
    "    \n",
    "    continue_training = True\n",
    "    \n",
    "    if continue_training:\n",
    "        preTrain = 'preTrain'\n",
    "    else:\n",
    "        preTrain = 'scratch'\n",
    "        \n",
    "    save_model = False\n",
    "    batch_size = 256\n",
    "    _flag_noise = False\n",
    "    nEpoch = 5000\n",
    "    fps_dim = fps_size\n",
    "    latent_space = 6\n",
    "    n_classes = nclass\n",
    "    layers_dim = np.array([fps_dim//2, fps_dim//8, latent_space])\n",
    "\n",
    "    data = dp.process_data(ds, fps_type = fps, n_classes=n_classes, nBits = fps_dim, test_size = 600, prop = prop)\n",
    "\n",
    "    len_train = len(data['fps_train'])\n",
    "    len_val = len(data['fps_test'])\n",
    "    \n",
    "    if fps == 'Morgan':\n",
    "        val_lr_enc = 0.00001\n",
    "        val_lr_dec = 0.001\n",
    "        val_lr_dis = 0.000004\n",
    "    elif fps == 'Maccs':\n",
    "        val_lr_enc = 0.00003\n",
    "        val_lr_dec = 0.001\n",
    "        val_lr_dis = 0.000012\n",
    "    \n",
    "    decay_steps = 1000\n",
    "    thrs_noise = 0.8\n",
    "    \n",
    "    \n",
    "    #Paths\n",
    "    model_path = os.path.join('/mnt/HDD1/models/', ds+'_'+fps+'_'+prop+'_classes'+str(n_classes))\n",
    "    preTrain_model_path = os.path.join('/mnt/HDD1/models/', 'Train'+'_'+fps+'_'+prop+'_classes'+str(n_classes))\n",
    "    if not os.path.exists(model_path):\n",
    "        os.makedirs(model_path)\n",
    "    \n",
    "    #File name\n",
    "    \n",
    "    \n",
    "\n",
    "    with tf.device(device):\n",
    "        with tf.variable_scope('input'):\n",
    "            #real and fake image placholders\n",
    "            real_fps = tf.placeholder(tf.float32, shape = [None, fps_dim], name='real_fps')\n",
    "            gen_fps = tf.placeholder(tf.float32, shape=[None, fps_dim], name='gen_fps')\n",
    "            if label_Flag:\n",
    "                dist_encode = tf.placeholder(tf.float32, shape=[None, layers_dim[2]+n_classes], name='real_z')\n",
    "            else:\n",
    "                dist_encode = tf.placeholder(tf.float32, shape=[None, layers_dim[2]], name='real_z')\n",
    "            labels = tf.placeholder(tf.float32, shape= [None, n_classes], name = 'labels')\n",
    "            \n",
    "            is_train_enc = tf.placeholder(tf.bool, name='is_train_enc')\n",
    "            is_train_dec = tf.placeholder(tf.bool, name= 'is_tain_dec')\n",
    "            is_train_dis = tf.placeholder(tf.bool, name= 'is_train_dis')\n",
    "\n",
    "            global_step = tf.placeholder(tf.float32, name='global_step')\n",
    "            \n",
    "            lengt = tf.placeholder(tf.float32, name='lengt')\n",
    "            \n",
    "            l = tf.placeholder(tf.float32, shape=[None, latent_space], name = 'l')\n",
    "            \n",
    "            fp = tf.placeholder(tf.float32, shape = [None, fps_dim], name = 'fp')\n",
    "            \n",
    "        lr_dis = tf.train.polynomial_decay(val_lr_dis, global_step, decay_steps, end_learning_rate=0.000001, power=1.0)\n",
    "        lr_enc = tf.train.polynomial_decay(val_lr_enc, global_step, decay_steps, end_learning_rate=0.000001, power=1.0)\n",
    "        lr_dec = tf.train.polynomial_decay(val_lr_dec, global_step, decay_steps, end_learning_rate=0.0000001, power=1.0)\n",
    "        # wgan\n",
    "        real_encode = module.dense_encoder(real_fps, fps_dim, layers_dim, is_train =is_train_enc, reuse=False)\n",
    "        real_decode = module.dense_decoder(real_encode, fps_dim, layers_dim, is_train = is_train_dec, reuse= False)\n",
    "        \n",
    "        if label_Flag:\n",
    "            real_encode = tf.concat([real_encode, labels], 1)\n",
    "            \n",
    "        #Discriminator\n",
    "        real_result = module.dense_discriminator(dist_encode,layers_dim, is_train =is_train_dis,n_classes=n_classes, reuse =False, label_Flag = label_Flag)\n",
    "        fake_result = module.dense_discriminator(real_encode, layers_dim, is_train = is_train_dis,n_classes=n_classes, reuse=True, label_Flag = label_Flag)\n",
    "        \n",
    "        decode = module.heavside(module.dense_decoder(l, fps_dim, layers_dim, is_train = False, reuse= True))\n",
    "        encode = module.dense_encoder(fp, fps_dim, layers_dim, is_train =False, reuse=True)\n",
    "        #Loss calculations\n",
    "        #dis_loss_real = tf.losses.mean_squared_error(real_result, tf.ones_like(real_result))\n",
    "        #dis_loss_fake = tf.losses.mean_squared_error(fake_result, -tf.ones_like(fake_result))\n",
    "        #dis_loss_real = tf.nn.sigmoid_cross_entropy_with_logits(labels = tf.ones_like(real_result),logits =real_result)\n",
    "        #dis_loss_fake = tf.nn.sigmoid_cross_entropy_with_logits(labels = tf.zeros_like(fake_result), logits = fake_result)\n",
    "        dis_loss_fake = tf.reduce_mean(fake_result)\n",
    "        dis_loss_real = - tf.reduce_mean(real_result)\n",
    "        dis_loss = tf.reduce_mean([dis_loss_real, dis_loss_fake])\n",
    "        \n",
    "        enc_loss = -tf.reduce_mean(fake_result) \n",
    "        #enc_loss = tf.losses.mean_squared_error(fake_result, tf.ones_like(fake_result))\n",
    "        dec_loss = tf.losses.mean_squared_error(real_fps, real_decode)\n",
    "        #dec_loss = tf.reduce_mean(tf.reduce_sum(tf.abs(real_fps - real_decode)))  \n",
    "\n",
    "        #Trainers\n",
    "        t_vars = tf.trainable_variables()\n",
    "        dis_vars = [var for var in t_vars if 'dense_discriminator' in var.name]\n",
    "        enc_vars = [var for var in t_vars if 'dense_encoder' in var.name]\n",
    "        dec_vars = [var for var in t_vars if 'dense_decoder' in var.name]\n",
    "        \n",
    "        trainer_dis_real = tf.train.AdamOptimizer(learning_rate = lr_dis, beta1=0.9, beta2=0.999,\n",
    "                                             epsilon=1e-08, use_locking=False,\n",
    "                                             name='Adam_discriminator').minimize(dis_loss_real, var_list=dis_vars)\n",
    "        trainer_dis_fake = tf.train.AdamOptimizer(learning_rate = lr_dis, beta1=0.9, beta2=0.999,\n",
    "                                             epsilon=1e-08, use_locking=False,\n",
    "                                             name='Adam_discriminator').minimize(dis_loss_fake, var_list=dis_vars)\n",
    "        \n",
    "        \n",
    "        \n",
    "        trainer_enc = tf.train.AdamOptimizer(learning_rate =lr_enc, beta1=0.9, beta2=0.999,\n",
    "                                             epsilon=1e-08, use_locking=False,\n",
    "                                             name='Adam_encoder').minimize(enc_loss, var_list=enc_vars)\n",
    "        \n",
    "        trainer_dec = tf.train.AdamOptimizer(learning_rate =lr_dec, beta1=0.9, beta2=0.999,\n",
    "                                             epsilon=1e-08, use_locking=False,\n",
    "                                             name='Adam_decoder').minimize(dec_loss, var_list=dec_vars)\n",
    "        \n",
    "        d_clip = [v.assign(tf.clip_by_value(v, -0.01, 0.01)) for v in dis_vars]\n",
    "        \n",
    "        #Accuracy calculations\n",
    "        less_then_05 = tf.cast(tf.math.less_equal(tf.zeros_like(real_result), real_result), tf.float32)\n",
    "        count = tf.reduce_sum(less_then_05)\n",
    "        acc_real = tf.divide(count, lengt)\n",
    "        acc_fake = tf.divide(tf.reduce_sum(tf.cast(tf.math.less_equal(fake_result,tf.zeros_like(fake_result)), tf.float32)),lengt)\n",
    "        acc_dis = tf.reduce_mean([acc_real, acc_fake])\n",
    "        \n",
    "        acc_enc = 1-acc_fake\n",
    "        gen_fps = module.heavside(real_decode)\n",
    "        \n",
    "        acc_dec = tf.metrics.accuracy(module.heavside(real_fps), module.heavside(real_decode))\n",
    "   \n",
    "    gpu_options = tf.GPUOptions(per_process_gpu_memory_fraction=0.44)\n",
    "    sess = tf.Session(config=tf.ConfigProto(gpu_options=gpu_options))\n",
    "    saver = tf.train.Saver()\n",
    "    sess.run(tf.global_variables_initializer())\n",
    "    sess.run(tf.local_variables_initializer())\n",
    "    # continue training\n",
    "    if continue_training:    \n",
    "        ckpt = tf.train.latest_checkpoint(preTrain_model_path)\n",
    "        saver.restore(sess, ckpt)\n",
    "\n",
    "\n",
    "    #gpu_options = tf.GPUOptions(allow_growth=True)\n",
    "    #session_config = tf.ConfigProto(allow_soft_placement=True, log_device_placement=False,\n",
    "    #                                gpu_options=gpu_options)\n",
    "    #threads = tf.train.start_queue_runners(sess=sess, coord=coord)\n",
    "\n",
    "    batch_num = math.floor(len(data['fps_train'])/batch_size) \n",
    "    print('batch size: %d, batch num per epoch: %d, epoch num: %d' % (batch_size, batch_num, nEpoch))\n",
    "    print('start training...')\n",
    "\n",
    "    dec_iters, dis_iters, enc_iters = 5, 1, 0\n",
    "    trainLoss_dis, trainAcc_dis = 0, 0\n",
    "    trainLoss_enc, trainAcc_enc = 0, 0\n",
    "    trainLoss_dec, trainAcc_dec = 0, 0\n",
    "    valLoss_dis, valLoss_enc, valLoss_dec = 0,0,0\n",
    "    valAcc_dis, valAcc_enc, valAcc_dec = 0,0,0  \n",
    "    for i in range(nEpoch):\n",
    "\n",
    "        if(trainAcc_dis < 0.505 and trainAcc_enc > 0.98 ):\n",
    "            enc_iters = 1\n",
    "            dis_iters = 7\n",
    "            thrs_noise = 0.9\n",
    "            _flag_noise = False\n",
    "        elif(trainAcc_dis < 0.505 and trainAcc_enc < 0.01):\n",
    "            dis_iters = 1\n",
    "            enc_iters = 1\n",
    "            thrs_noise = 0.7\n",
    "            _flag_noise = False\n",
    "        else:\n",
    "            _flag_noise = False\n",
    "            thrs_noise = 0.95\n",
    "            dis_iters = 5\n",
    "            enc_iters = 1\n",
    "            \n",
    "        trainLoss_dis, trainAcc_dis = 0, 0\n",
    "        trainLoss_enc, trainAcc_enc = 0, 0\n",
    "        trainLoss_dec, trainAcc_dec = 0, 0\n",
    "        valLoss_dis, valLoss_enc, valLoss_dec = 0,0,0\n",
    "        valAcc_dis, valAcc_enc, valAcc_dec = 0,0,0   \n",
    "        \n",
    "        max_iter = max([dec_iters, dis_iters, enc_iters])\n",
    "        batch = dp.batch_gen(data['fps_train'], data['labels_train'],\n",
    "                             batch_size = batch_size,n_dim = layers_dim[2],\n",
    "                             n_labels = n_classes,\n",
    "                             label_Flag = label_Flag, dic_iter= max_iter)\n",
    "        print(\"Epoch %d\" % i)\n",
    "        train_real_z = distrib.normal_mixture(data['labels_train'],\n",
    "                                              np.shape(data['labels_train'])[0],\n",
    "                                              n_dim=layers_dim[2],\n",
    "                                             n_labels = n_classes)\n",
    "        val_real_z = distrib.normal_mixture(data['labels_val'],\n",
    "                                            np.shape(data['labels_val'])[0],\n",
    "                                            n_dim=layers_dim[2],\n",
    "                                           n_labels = n_classes)\n",
    "        if label_Flag:\n",
    "            train_real_z = np.concatenate((train_real_z,data['labels_train']), axis = 1)\n",
    "            val_real_z = np.concatenate((val_real_z,data['labels_val']), axis = 1)\n",
    "              \n",
    "        for j in range(batch_num):\n",
    "           \n",
    "\n",
    "            \n",
    "            if _flag_noise and np.random.uniform(0,1)> thrs_noise:\n",
    "                _real_fps = batch['fps'][j] + np.random.normal(0, 0.4, size = np.shape(batch['fps'][j]))\n",
    "            else:\n",
    "                _real_fps = batch['fps'][j]\n",
    "            enc_dict = {real_fps:_real_fps , labels: batch['label'][j], global_step: i,\n",
    "                        is_train_enc: True, is_train_dis: False}\n",
    "            \n",
    "            \n",
    "          \n",
    "            for k in range(dis_iters):\n",
    "                if _flag_noise and np.random.uniform(0,1)>thrs_noise:\n",
    "                    _real_fps = batch['fps'][j*dis_iters + k] + np.random.normal(0, 0.4, size = np.shape(batch['fps'][j*dis_iters + k]))\n",
    "                else:\n",
    "                    _real_fps = batch['fps'][j*dis_iters + k]\n",
    "                dis_dict ={real_fps: _real_fps, labels: batch['label'][j*dis_iters +k ],\n",
    "                       dist_encode: batch['real_z'][j*dis_iters +k],global_step: i, \n",
    "                       is_train_enc: False, is_train_dis: True}\n",
    "                \n",
    "                sess.run([trainer_dis_real], feed_dict= dis_dict)\n",
    "                sess.run([trainer_dis_fake], feed_dict= dis_dict)\n",
    "                \n",
    "            # Update the encoder\n",
    "            for k in range(enc_iters):\n",
    "                sess.run([trainer_enc], feed_dict=enc_dict)\n",
    "\n",
    "            # Update decoder\n",
    "            for k in range(dec_iters):\n",
    "                if _flag_noise and np.random.uniform(0,1)>thrs_noise:\n",
    "                    _real_fps = batch['fps'][j*dis_iters + k] + np.random.normal(0, 0.2, size = np.shape(batch['fps'][j*dis_iters + k]))\n",
    "                else:\n",
    "                    _real_fps = batch['fps'][j*dis_iters + k]\n",
    "                dec_dict = {real_fps: _real_fps, global_step: i, is_train_dec: True, is_train_enc: False}\n",
    "                sess.run([trainer_dec], feed_dict= dec_dict)\n",
    "        nom = 10000\n",
    "        ds_size_nom = np.shape(data['fps_train'])[0]//nom+1\n",
    "       \n",
    "        if i%50 == 0 and i!=0:\n",
    "            l_space = np.zeros([latent_space,np.shape(data['fps_train'])[0]],dtype=np.float32)\n",
    "            for b in range(ds_size_nom):               \n",
    "                l_space[:,b*nom:b*nom+nom] = (np.array(sess.run([encode], feed_dict = {fp: data['fps_train'][b*nom:b*nom+nom,:]}))[0].T)\n",
    "            plt.scatter(l_space[0,:],l_space[1,:],c='m')  \n",
    "            plt.show()\n",
    "            sample = GM.generate_latent(l_space, np.array(data['labels_train']))\n",
    "            for j in sample.keys():\n",
    "                generated_fingerprints = np.array(sess.run([decode], feed_dict = {l: sample[j]})[0])\n",
    "                for k in range(n_classes):\n",
    "\n",
    "                    avg_tver, max_tver, min_tver, u_tver, su_tver, nu_tver = sim.tversky(data['fps_test'][k],generated_fingerprints,1,1)\n",
    "                    arg1 = {'Average_tversky': [avg_tver], 'Max_tversky': [max_tver], 'Min_tversky': [min_tver], 'Useful_tversky': [u_tver], 'Semiuseful_tversky':[su_tver], 'Notuseful_tversky':[nu_tver]}\n",
    "                    #log.log_sim_data(i, arg1, flag = label_Flag, fps = fps, dSet = ds, prop = prop, n_class = n_classes,preTrain=preTrain)\n",
    "            break\n",
    "        d = np.zeros([np.shape(data['fps_train'])[0],latent_space],dtype=np.float32)\n",
    "        for b in range(ds_size_nom):\n",
    "\n",
    "            train_loss_dict = {real_fps: data['fps_train'][b*nom:b*nom+nom], labels: data['labels_train'][b*nom:b*nom+nom],\n",
    "                               dist_encode: train_real_z, is_train_dec: False,\n",
    "                               is_train_enc: False, is_train_dis: False, lengt: len_train}\n",
    "            val_loss_dict = {real_fps: data['fps_val'], labels: data['labels_val'],\n",
    "                               dist_encode: val_real_z, is_train_dec: False,\n",
    "                               is_train_enc: False, is_train_dis: False, lengt: len_val}\n",
    "\n",
    "            d[b*nom:b*nom+nom,:] = sess.run([encode], feed_dict = {fp: data['fps_train'][b*nom:b*nom+nom,:]} )[0]\n",
    "            \n",
    "            trainLoss_dis += sess.run([dis_loss], feed_dict = train_loss_dict)[0]\n",
    "            trainLoss_enc += sess.run([enc_loss], feed_dict = train_loss_dict)[0]\n",
    "            trainLoss_dec += sess.run([dec_loss], feed_dict = train_loss_dict)[0]\n",
    "            \n",
    "            valLoss_dis += sess.run([dis_loss], feed_dict = val_loss_dict)[0]\n",
    "            valLoss_enc += sess.run([enc_loss], feed_dict = val_loss_dict)[0]\n",
    "            valLoss_dec += sess.run([dec_loss], feed_dict = val_loss_dict)[0]\n",
    "\n",
    "            trainAcc_dis += sess.run([acc_dis], feed_dict = train_loss_dict)[0]\n",
    "            valAcc_dis += sess.run([acc_dis], feed_dict = val_loss_dict)[0]\n",
    "            trainAcc_enc += sess.run([acc_enc], feed_dict = train_loss_dict)[0]\n",
    "            valAcc_enc += sess.run([acc_enc], feed_dict = val_loss_dict)[0]\n",
    "            trainAcc_dec += sess.run([acc_dec], feed_dict= train_loss_dict)[0][0]\n",
    "            valAcc_dec += sess.run([acc_dec], feed_dict= val_loss_dict)[0][0]\n",
    "        \n",
    "        print(sess.run([lr_dis], feed_dict = {global_step: i}))\n",
    "        print('Discriminator trainLoss = %f valLoss = %f trainAcc = %f valAcc = %f' % (trainLoss_dis/(ds_size_nom), valLoss_dis/(ds_size_nom), trainAcc_dis/(ds_size_nom+1), valAcc_dis/(ds_size_nom)))\n",
    "        print('Encoder trainLoss = %f valLoss = %f trainAcc = %f valAcc = %f' % (trainLoss_enc/(ds_size_nom), valLoss_enc/(ds_size_nom), trainAcc_enc/(ds_size_nom), valAcc_enc/(ds_size_nom)))\n",
    "        print('Decoder trainLoss = %f valLoss = %f trainAcc = %f valAcc = %f' % (trainLoss_dec/(ds_size_nom), valLoss_dec/(ds_size_nom), trainAcc_dec/(ds_size_nom), valAcc_dec/(ds_size_nom)))\n",
    "        arg = {'Train_loss': [], 'Val_loss': [], 'Train_acc': [], 'Val_acc': []}\n",
    "        arg['Train_loss'] = [trainLoss_dis/(ds_size_nom), trainLoss_enc/(ds_size_nom), trainLoss_dec/(ds_size_nom)]\n",
    "        arg['Val_loss'] = [valLoss_dis/(ds_size_nom), valLoss_enc/(ds_size_nom), valLoss_dec/(ds_size_nom)]\n",
    "        arg['Train_acc'] = [trainAcc_dis/(ds_size_nom), trainAcc_enc/(ds_size_nom), trainAcc_dec/(ds_size_nom)]\n",
    "        arg['Val_acc'] = [valAcc_dis/(ds_size_nom), valAcc_enc/(ds_size_nom), valAcc_dec/(ds_size_nom)]\n",
    "        \n",
    "        \n",
    "        \n",
    "        #log.log_train_data(i, arg, flag = label_Flag, fps = fps, dSet = ds, prop = prop, n_class = n_classes, preTrain = preTrain)\n",
    "        if vi!=None:\n",
    "            d1 = np.empty(np.shape(d)[0]*latent_space//2, dtype = np.float32)\n",
    "            d2 = np.empty(np.shape(d)[0]*latent_space//2, dtype = np.float32)\n",
    "            c =  np.empty(np.shape(d)[0]*latent_space//2, dtype = np.int32)\n",
    "            for h in range(latent_space//2):\n",
    "                d1[np.shape(d)[0]*h:np.shape(d)[0]*h + np.shape(d)[0]] = d[:,2*h] \n",
    "                d2[np.shape(d)[0]*h:np.shape(d)[0]*h + np.shape(d)[0]] = d[:,2*h+1]\n",
    "                c[np.shape(d)[0]*h:np.shape(d)[0]*h + np.shape(d)[0]] = np.nonzero(data['labels_train'])[1]\n",
    "            #vi.update(d1_avg, d2_avg, np.nonzero(data['labels_train'])[1])\n",
    "            vi.update(d1, d2,c,nlabel = nclass,prop = data['prop'])\n",
    "        if i%50 == 0 and i != 0:\n",
    "            if save_model:\n",
    "                saver.save(sess, os.path.join(model_path, 'model' + str(i) + '.ckpt')) \n",
    "    sess.close()"
   ]
  },
  {
   "cell_type": "code",
   "execution_count": 3,
   "metadata": {
    "scrolled": false
   },
   "outputs": [
    {
     "data": {
      "application/javascript": [
       "/* Put everything inside the global mpl namespace */\n",
       "window.mpl = {};\n",
       "\n",
       "\n",
       "mpl.get_websocket_type = function() {\n",
       "    if (typeof(WebSocket) !== 'undefined') {\n",
       "        return WebSocket;\n",
       "    } else if (typeof(MozWebSocket) !== 'undefined') {\n",
       "        return MozWebSocket;\n",
       "    } else {\n",
       "        alert('Your browser does not have WebSocket support.' +\n",
       "              'Please try Chrome, Safari or Firefox ≥ 6. ' +\n",
       "              'Firefox 4 and 5 are also supported but you ' +\n",
       "              'have to enable WebSockets in about:config.');\n",
       "    };\n",
       "}\n",
       "\n",
       "mpl.figure = function(figure_id, websocket, ondownload, parent_element) {\n",
       "    this.id = figure_id;\n",
       "\n",
       "    this.ws = websocket;\n",
       "\n",
       "    this.supports_binary = (this.ws.binaryType != undefined);\n",
       "\n",
       "    if (!this.supports_binary) {\n",
       "        var warnings = document.getElementById(\"mpl-warnings\");\n",
       "        if (warnings) {\n",
       "            warnings.style.display = 'block';\n",
       "            warnings.textContent = (\n",
       "                \"This browser does not support binary websocket messages. \" +\n",
       "                    \"Performance may be slow.\");\n",
       "        }\n",
       "    }\n",
       "\n",
       "    this.imageObj = new Image();\n",
       "\n",
       "    this.context = undefined;\n",
       "    this.message = undefined;\n",
       "    this.canvas = undefined;\n",
       "    this.rubberband_canvas = undefined;\n",
       "    this.rubberband_context = undefined;\n",
       "    this.format_dropdown = undefined;\n",
       "\n",
       "    this.image_mode = 'full';\n",
       "\n",
       "    this.root = $('<div/>');\n",
       "    this._root_extra_style(this.root)\n",
       "    this.root.attr('style', 'display: inline-block');\n",
       "\n",
       "    $(parent_element).append(this.root);\n",
       "\n",
       "    this._init_header(this);\n",
       "    this._init_canvas(this);\n",
       "    this._init_toolbar(this);\n",
       "\n",
       "    var fig = this;\n",
       "\n",
       "    this.waiting = false;\n",
       "\n",
       "    this.ws.onopen =  function () {\n",
       "            fig.send_message(\"supports_binary\", {value: fig.supports_binary});\n",
       "            fig.send_message(\"send_image_mode\", {});\n",
       "            if (mpl.ratio != 1) {\n",
       "                fig.send_message(\"set_dpi_ratio\", {'dpi_ratio': mpl.ratio});\n",
       "            }\n",
       "            fig.send_message(\"refresh\", {});\n",
       "        }\n",
       "\n",
       "    this.imageObj.onload = function() {\n",
       "            if (fig.image_mode == 'full') {\n",
       "                // Full images could contain transparency (where diff images\n",
       "                // almost always do), so we need to clear the canvas so that\n",
       "                // there is no ghosting.\n",
       "                fig.context.clearRect(0, 0, fig.canvas.width, fig.canvas.height);\n",
       "            }\n",
       "            fig.context.drawImage(fig.imageObj, 0, 0);\n",
       "        };\n",
       "\n",
       "    this.imageObj.onunload = function() {\n",
       "        fig.ws.close();\n",
       "    }\n",
       "\n",
       "    this.ws.onmessage = this._make_on_message_function(this);\n",
       "\n",
       "    this.ondownload = ondownload;\n",
       "}\n",
       "\n",
       "mpl.figure.prototype._init_header = function() {\n",
       "    var titlebar = $(\n",
       "        '<div class=\"ui-dialog-titlebar ui-widget-header ui-corner-all ' +\n",
       "        'ui-helper-clearfix\"/>');\n",
       "    var titletext = $(\n",
       "        '<div class=\"ui-dialog-title\" style=\"width: 100%; ' +\n",
       "        'text-align: center; padding: 3px;\"/>');\n",
       "    titlebar.append(titletext)\n",
       "    this.root.append(titlebar);\n",
       "    this.header = titletext[0];\n",
       "}\n",
       "\n",
       "\n",
       "\n",
       "mpl.figure.prototype._canvas_extra_style = function(canvas_div) {\n",
       "\n",
       "}\n",
       "\n",
       "\n",
       "mpl.figure.prototype._root_extra_style = function(canvas_div) {\n",
       "\n",
       "}\n",
       "\n",
       "mpl.figure.prototype._init_canvas = function() {\n",
       "    var fig = this;\n",
       "\n",
       "    var canvas_div = $('<div/>');\n",
       "\n",
       "    canvas_div.attr('style', 'position: relative; clear: both; outline: 0');\n",
       "\n",
       "    function canvas_keyboard_event(event) {\n",
       "        return fig.key_event(event, event['data']);\n",
       "    }\n",
       "\n",
       "    canvas_div.keydown('key_press', canvas_keyboard_event);\n",
       "    canvas_div.keyup('key_release', canvas_keyboard_event);\n",
       "    this.canvas_div = canvas_div\n",
       "    this._canvas_extra_style(canvas_div)\n",
       "    this.root.append(canvas_div);\n",
       "\n",
       "    var canvas = $('<canvas/>');\n",
       "    canvas.addClass('mpl-canvas');\n",
       "    canvas.attr('style', \"left: 0; top: 0; z-index: 0; outline: 0\")\n",
       "\n",
       "    this.canvas = canvas[0];\n",
       "    this.context = canvas[0].getContext(\"2d\");\n",
       "\n",
       "    var backingStore = this.context.backingStorePixelRatio ||\n",
       "\tthis.context.webkitBackingStorePixelRatio ||\n",
       "\tthis.context.mozBackingStorePixelRatio ||\n",
       "\tthis.context.msBackingStorePixelRatio ||\n",
       "\tthis.context.oBackingStorePixelRatio ||\n",
       "\tthis.context.backingStorePixelRatio || 1;\n",
       "\n",
       "    mpl.ratio = (window.devicePixelRatio || 1) / backingStore;\n",
       "\n",
       "    var rubberband = $('<canvas/>');\n",
       "    rubberband.attr('style', \"position: absolute; left: 0; top: 0; z-index: 1;\")\n",
       "\n",
       "    var pass_mouse_events = true;\n",
       "\n",
       "    canvas_div.resizable({\n",
       "        start: function(event, ui) {\n",
       "            pass_mouse_events = false;\n",
       "        },\n",
       "        resize: function(event, ui) {\n",
       "            fig.request_resize(ui.size.width, ui.size.height);\n",
       "        },\n",
       "        stop: function(event, ui) {\n",
       "            pass_mouse_events = true;\n",
       "            fig.request_resize(ui.size.width, ui.size.height);\n",
       "        },\n",
       "    });\n",
       "\n",
       "    function mouse_event_fn(event) {\n",
       "        if (pass_mouse_events)\n",
       "            return fig.mouse_event(event, event['data']);\n",
       "    }\n",
       "\n",
       "    rubberband.mousedown('button_press', mouse_event_fn);\n",
       "    rubberband.mouseup('button_release', mouse_event_fn);\n",
       "    // Throttle sequential mouse events to 1 every 20ms.\n",
       "    rubberband.mousemove('motion_notify', mouse_event_fn);\n",
       "\n",
       "    rubberband.mouseenter('figure_enter', mouse_event_fn);\n",
       "    rubberband.mouseleave('figure_leave', mouse_event_fn);\n",
       "\n",
       "    canvas_div.on(\"wheel\", function (event) {\n",
       "        event = event.originalEvent;\n",
       "        event['data'] = 'scroll'\n",
       "        if (event.deltaY < 0) {\n",
       "            event.step = 1;\n",
       "        } else {\n",
       "            event.step = -1;\n",
       "        }\n",
       "        mouse_event_fn(event);\n",
       "    });\n",
       "\n",
       "    canvas_div.append(canvas);\n",
       "    canvas_div.append(rubberband);\n",
       "\n",
       "    this.rubberband = rubberband;\n",
       "    this.rubberband_canvas = rubberband[0];\n",
       "    this.rubberband_context = rubberband[0].getContext(\"2d\");\n",
       "    this.rubberband_context.strokeStyle = \"#000000\";\n",
       "\n",
       "    this._resize_canvas = function(width, height) {\n",
       "        // Keep the size of the canvas, canvas container, and rubber band\n",
       "        // canvas in synch.\n",
       "        canvas_div.css('width', width)\n",
       "        canvas_div.css('height', height)\n",
       "\n",
       "        canvas.attr('width', width * mpl.ratio);\n",
       "        canvas.attr('height', height * mpl.ratio);\n",
       "        canvas.attr('style', 'width: ' + width + 'px; height: ' + height + 'px;');\n",
       "\n",
       "        rubberband.attr('width', width);\n",
       "        rubberband.attr('height', height);\n",
       "    }\n",
       "\n",
       "    // Set the figure to an initial 600x600px, this will subsequently be updated\n",
       "    // upon first draw.\n",
       "    this._resize_canvas(600, 600);\n",
       "\n",
       "    // Disable right mouse context menu.\n",
       "    $(this.rubberband_canvas).bind(\"contextmenu\",function(e){\n",
       "        return false;\n",
       "    });\n",
       "\n",
       "    function set_focus () {\n",
       "        canvas.focus();\n",
       "        canvas_div.focus();\n",
       "    }\n",
       "\n",
       "    window.setTimeout(set_focus, 100);\n",
       "}\n",
       "\n",
       "mpl.figure.prototype._init_toolbar = function() {\n",
       "    var fig = this;\n",
       "\n",
       "    var nav_element = $('<div/>')\n",
       "    nav_element.attr('style', 'width: 100%');\n",
       "    this.root.append(nav_element);\n",
       "\n",
       "    // Define a callback function for later on.\n",
       "    function toolbar_event(event) {\n",
       "        return fig.toolbar_button_onclick(event['data']);\n",
       "    }\n",
       "    function toolbar_mouse_event(event) {\n",
       "        return fig.toolbar_button_onmouseover(event['data']);\n",
       "    }\n",
       "\n",
       "    for(var toolbar_ind in mpl.toolbar_items) {\n",
       "        var name = mpl.toolbar_items[toolbar_ind][0];\n",
       "        var tooltip = mpl.toolbar_items[toolbar_ind][1];\n",
       "        var image = mpl.toolbar_items[toolbar_ind][2];\n",
       "        var method_name = mpl.toolbar_items[toolbar_ind][3];\n",
       "\n",
       "        if (!name) {\n",
       "            // put a spacer in here.\n",
       "            continue;\n",
       "        }\n",
       "        var button = $('<button/>');\n",
       "        button.addClass('ui-button ui-widget ui-state-default ui-corner-all ' +\n",
       "                        'ui-button-icon-only');\n",
       "        button.attr('role', 'button');\n",
       "        button.attr('aria-disabled', 'false');\n",
       "        button.click(method_name, toolbar_event);\n",
       "        button.mouseover(tooltip, toolbar_mouse_event);\n",
       "\n",
       "        var icon_img = $('<span/>');\n",
       "        icon_img.addClass('ui-button-icon-primary ui-icon');\n",
       "        icon_img.addClass(image);\n",
       "        icon_img.addClass('ui-corner-all');\n",
       "\n",
       "        var tooltip_span = $('<span/>');\n",
       "        tooltip_span.addClass('ui-button-text');\n",
       "        tooltip_span.html(tooltip);\n",
       "\n",
       "        button.append(icon_img);\n",
       "        button.append(tooltip_span);\n",
       "\n",
       "        nav_element.append(button);\n",
       "    }\n",
       "\n",
       "    var fmt_picker_span = $('<span/>');\n",
       "\n",
       "    var fmt_picker = $('<select/>');\n",
       "    fmt_picker.addClass('mpl-toolbar-option ui-widget ui-widget-content');\n",
       "    fmt_picker_span.append(fmt_picker);\n",
       "    nav_element.append(fmt_picker_span);\n",
       "    this.format_dropdown = fmt_picker[0];\n",
       "\n",
       "    for (var ind in mpl.extensions) {\n",
       "        var fmt = mpl.extensions[ind];\n",
       "        var option = $(\n",
       "            '<option/>', {selected: fmt === mpl.default_extension}).html(fmt);\n",
       "        fmt_picker.append(option)\n",
       "    }\n",
       "\n",
       "    // Add hover states to the ui-buttons\n",
       "    $( \".ui-button\" ).hover(\n",
       "        function() { $(this).addClass(\"ui-state-hover\");},\n",
       "        function() { $(this).removeClass(\"ui-state-hover\");}\n",
       "    );\n",
       "\n",
       "    var status_bar = $('<span class=\"mpl-message\"/>');\n",
       "    nav_element.append(status_bar);\n",
       "    this.message = status_bar[0];\n",
       "}\n",
       "\n",
       "mpl.figure.prototype.request_resize = function(x_pixels, y_pixels) {\n",
       "    // Request matplotlib to resize the figure. Matplotlib will then trigger a resize in the client,\n",
       "    // which will in turn request a refresh of the image.\n",
       "    this.send_message('resize', {'width': x_pixels, 'height': y_pixels});\n",
       "}\n",
       "\n",
       "mpl.figure.prototype.send_message = function(type, properties) {\n",
       "    properties['type'] = type;\n",
       "    properties['figure_id'] = this.id;\n",
       "    this.ws.send(JSON.stringify(properties));\n",
       "}\n",
       "\n",
       "mpl.figure.prototype.send_draw_message = function() {\n",
       "    if (!this.waiting) {\n",
       "        this.waiting = true;\n",
       "        this.ws.send(JSON.stringify({type: \"draw\", figure_id: this.id}));\n",
       "    }\n",
       "}\n",
       "\n",
       "\n",
       "mpl.figure.prototype.handle_save = function(fig, msg) {\n",
       "    var format_dropdown = fig.format_dropdown;\n",
       "    var format = format_dropdown.options[format_dropdown.selectedIndex].value;\n",
       "    fig.ondownload(fig, format);\n",
       "}\n",
       "\n",
       "\n",
       "mpl.figure.prototype.handle_resize = function(fig, msg) {\n",
       "    var size = msg['size'];\n",
       "    if (size[0] != fig.canvas.width || size[1] != fig.canvas.height) {\n",
       "        fig._resize_canvas(size[0], size[1]);\n",
       "        fig.send_message(\"refresh\", {});\n",
       "    };\n",
       "}\n",
       "\n",
       "mpl.figure.prototype.handle_rubberband = function(fig, msg) {\n",
       "    var x0 = msg['x0'] / mpl.ratio;\n",
       "    var y0 = (fig.canvas.height - msg['y0']) / mpl.ratio;\n",
       "    var x1 = msg['x1'] / mpl.ratio;\n",
       "    var y1 = (fig.canvas.height - msg['y1']) / mpl.ratio;\n",
       "    x0 = Math.floor(x0) + 0.5;\n",
       "    y0 = Math.floor(y0) + 0.5;\n",
       "    x1 = Math.floor(x1) + 0.5;\n",
       "    y1 = Math.floor(y1) + 0.5;\n",
       "    var min_x = Math.min(x0, x1);\n",
       "    var min_y = Math.min(y0, y1);\n",
       "    var width = Math.abs(x1 - x0);\n",
       "    var height = Math.abs(y1 - y0);\n",
       "\n",
       "    fig.rubberband_context.clearRect(\n",
       "        0, 0, fig.canvas.width, fig.canvas.height);\n",
       "\n",
       "    fig.rubberband_context.strokeRect(min_x, min_y, width, height);\n",
       "}\n",
       "\n",
       "mpl.figure.prototype.handle_figure_label = function(fig, msg) {\n",
       "    // Updates the figure title.\n",
       "    fig.header.textContent = msg['label'];\n",
       "}\n",
       "\n",
       "mpl.figure.prototype.handle_cursor = function(fig, msg) {\n",
       "    var cursor = msg['cursor'];\n",
       "    switch(cursor)\n",
       "    {\n",
       "    case 0:\n",
       "        cursor = 'pointer';\n",
       "        break;\n",
       "    case 1:\n",
       "        cursor = 'default';\n",
       "        break;\n",
       "    case 2:\n",
       "        cursor = 'crosshair';\n",
       "        break;\n",
       "    case 3:\n",
       "        cursor = 'move';\n",
       "        break;\n",
       "    }\n",
       "    fig.rubberband_canvas.style.cursor = cursor;\n",
       "}\n",
       "\n",
       "mpl.figure.prototype.handle_message = function(fig, msg) {\n",
       "    fig.message.textContent = msg['message'];\n",
       "}\n",
       "\n",
       "mpl.figure.prototype.handle_draw = function(fig, msg) {\n",
       "    // Request the server to send over a new figure.\n",
       "    fig.send_draw_message();\n",
       "}\n",
       "\n",
       "mpl.figure.prototype.handle_image_mode = function(fig, msg) {\n",
       "    fig.image_mode = msg['mode'];\n",
       "}\n",
       "\n",
       "mpl.figure.prototype.updated_canvas_event = function() {\n",
       "    // Called whenever the canvas gets updated.\n",
       "    this.send_message(\"ack\", {});\n",
       "}\n",
       "\n",
       "// A function to construct a web socket function for onmessage handling.\n",
       "// Called in the figure constructor.\n",
       "mpl.figure.prototype._make_on_message_function = function(fig) {\n",
       "    return function socket_on_message(evt) {\n",
       "        if (evt.data instanceof Blob) {\n",
       "            /* FIXME: We get \"Resource interpreted as Image but\n",
       "             * transferred with MIME type text/plain:\" errors on\n",
       "             * Chrome.  But how to set the MIME type?  It doesn't seem\n",
       "             * to be part of the websocket stream */\n",
       "            evt.data.type = \"image/png\";\n",
       "\n",
       "            /* Free the memory for the previous frames */\n",
       "            if (fig.imageObj.src) {\n",
       "                (window.URL || window.webkitURL).revokeObjectURL(\n",
       "                    fig.imageObj.src);\n",
       "            }\n",
       "\n",
       "            fig.imageObj.src = (window.URL || window.webkitURL).createObjectURL(\n",
       "                evt.data);\n",
       "            fig.updated_canvas_event();\n",
       "            fig.waiting = false;\n",
       "            return;\n",
       "        }\n",
       "        else if (typeof evt.data === 'string' && evt.data.slice(0, 21) == \"data:image/png;base64\") {\n",
       "            fig.imageObj.src = evt.data;\n",
       "            fig.updated_canvas_event();\n",
       "            fig.waiting = false;\n",
       "            return;\n",
       "        }\n",
       "\n",
       "        var msg = JSON.parse(evt.data);\n",
       "        var msg_type = msg['type'];\n",
       "\n",
       "        // Call the  \"handle_{type}\" callback, which takes\n",
       "        // the figure and JSON message as its only arguments.\n",
       "        try {\n",
       "            var callback = fig[\"handle_\" + msg_type];\n",
       "        } catch (e) {\n",
       "            console.log(\"No handler for the '\" + msg_type + \"' message type: \", msg);\n",
       "            return;\n",
       "        }\n",
       "\n",
       "        if (callback) {\n",
       "            try {\n",
       "                // console.log(\"Handling '\" + msg_type + \"' message: \", msg);\n",
       "                callback(fig, msg);\n",
       "            } catch (e) {\n",
       "                console.log(\"Exception inside the 'handler_\" + msg_type + \"' callback:\", e, e.stack, msg);\n",
       "            }\n",
       "        }\n",
       "    };\n",
       "}\n",
       "\n",
       "// from http://stackoverflow.com/questions/1114465/getting-mouse-location-in-canvas\n",
       "mpl.findpos = function(e) {\n",
       "    //this section is from http://www.quirksmode.org/js/events_properties.html\n",
       "    var targ;\n",
       "    if (!e)\n",
       "        e = window.event;\n",
       "    if (e.target)\n",
       "        targ = e.target;\n",
       "    else if (e.srcElement)\n",
       "        targ = e.srcElement;\n",
       "    if (targ.nodeType == 3) // defeat Safari bug\n",
       "        targ = targ.parentNode;\n",
       "\n",
       "    // jQuery normalizes the pageX and pageY\n",
       "    // pageX,Y are the mouse positions relative to the document\n",
       "    // offset() returns the position of the element relative to the document\n",
       "    var x = e.pageX - $(targ).offset().left;\n",
       "    var y = e.pageY - $(targ).offset().top;\n",
       "\n",
       "    return {\"x\": x, \"y\": y};\n",
       "};\n",
       "\n",
       "/*\n",
       " * return a copy of an object with only non-object keys\n",
       " * we need this to avoid circular references\n",
       " * http://stackoverflow.com/a/24161582/3208463\n",
       " */\n",
       "function simpleKeys (original) {\n",
       "  return Object.keys(original).reduce(function (obj, key) {\n",
       "    if (typeof original[key] !== 'object')\n",
       "        obj[key] = original[key]\n",
       "    return obj;\n",
       "  }, {});\n",
       "}\n",
       "\n",
       "mpl.figure.prototype.mouse_event = function(event, name) {\n",
       "    var canvas_pos = mpl.findpos(event)\n",
       "\n",
       "    if (name === 'button_press')\n",
       "    {\n",
       "        this.canvas.focus();\n",
       "        this.canvas_div.focus();\n",
       "    }\n",
       "\n",
       "    var x = canvas_pos.x * mpl.ratio;\n",
       "    var y = canvas_pos.y * mpl.ratio;\n",
       "\n",
       "    this.send_message(name, {x: x, y: y, button: event.button,\n",
       "                             step: event.step,\n",
       "                             guiEvent: simpleKeys(event)});\n",
       "\n",
       "    /* This prevents the web browser from automatically changing to\n",
       "     * the text insertion cursor when the button is pressed.  We want\n",
       "     * to control all of the cursor setting manually through the\n",
       "     * 'cursor' event from matplotlib */\n",
       "    event.preventDefault();\n",
       "    return false;\n",
       "}\n",
       "\n",
       "mpl.figure.prototype._key_event_extra = function(event, name) {\n",
       "    // Handle any extra behaviour associated with a key event\n",
       "}\n",
       "\n",
       "mpl.figure.prototype.key_event = function(event, name) {\n",
       "\n",
       "    // Prevent repeat events\n",
       "    if (name == 'key_press')\n",
       "    {\n",
       "        if (event.which === this._key)\n",
       "            return;\n",
       "        else\n",
       "            this._key = event.which;\n",
       "    }\n",
       "    if (name == 'key_release')\n",
       "        this._key = null;\n",
       "\n",
       "    var value = '';\n",
       "    if (event.ctrlKey && event.which != 17)\n",
       "        value += \"ctrl+\";\n",
       "    if (event.altKey && event.which != 18)\n",
       "        value += \"alt+\";\n",
       "    if (event.shiftKey && event.which != 16)\n",
       "        value += \"shift+\";\n",
       "\n",
       "    value += 'k';\n",
       "    value += event.which.toString();\n",
       "\n",
       "    this._key_event_extra(event, name);\n",
       "\n",
       "    this.send_message(name, {key: value,\n",
       "                             guiEvent: simpleKeys(event)});\n",
       "    return false;\n",
       "}\n",
       "\n",
       "mpl.figure.prototype.toolbar_button_onclick = function(name) {\n",
       "    if (name == 'download') {\n",
       "        this.handle_save(this, null);\n",
       "    } else {\n",
       "        this.send_message(\"toolbar_button\", {name: name});\n",
       "    }\n",
       "};\n",
       "\n",
       "mpl.figure.prototype.toolbar_button_onmouseover = function(tooltip) {\n",
       "    this.message.textContent = tooltip;\n",
       "};\n",
       "mpl.toolbar_items = [[\"Home\", \"Reset original view\", \"fa fa-home icon-home\", \"home\"], [\"Back\", \"Back to previous view\", \"fa fa-arrow-left icon-arrow-left\", \"back\"], [\"Forward\", \"Forward to next view\", \"fa fa-arrow-right icon-arrow-right\", \"forward\"], [\"\", \"\", \"\", \"\"], [\"Pan\", \"Pan axes with left mouse, zoom with right\", \"fa fa-arrows icon-move\", \"pan\"], [\"Zoom\", \"Zoom to rectangle\", \"fa fa-square-o icon-check-empty\", \"zoom\"], [\"\", \"\", \"\", \"\"], [\"Download\", \"Download plot\", \"fa fa-floppy-o icon-save\", \"download\"]];\n",
       "\n",
       "mpl.extensions = [\"eps\", \"jpeg\", \"pdf\", \"png\", \"ps\", \"raw\", \"svg\", \"tif\"];\n",
       "\n",
       "mpl.default_extension = \"png\";var comm_websocket_adapter = function(comm) {\n",
       "    // Create a \"websocket\"-like object which calls the given IPython comm\n",
       "    // object with the appropriate methods. Currently this is a non binary\n",
       "    // socket, so there is still some room for performance tuning.\n",
       "    var ws = {};\n",
       "\n",
       "    ws.close = function() {\n",
       "        comm.close()\n",
       "    };\n",
       "    ws.send = function(m) {\n",
       "        //console.log('sending', m);\n",
       "        comm.send(m);\n",
       "    };\n",
       "    // Register the callback with on_msg.\n",
       "    comm.on_msg(function(msg) {\n",
       "        //console.log('receiving', msg['content']['data'], msg);\n",
       "        // Pass the mpl event to the overridden (by mpl) onmessage function.\n",
       "        ws.onmessage(msg['content']['data'])\n",
       "    });\n",
       "    return ws;\n",
       "}\n",
       "\n",
       "mpl.mpl_figure_comm = function(comm, msg) {\n",
       "    // This is the function which gets called when the mpl process\n",
       "    // starts-up an IPython Comm through the \"matplotlib\" channel.\n",
       "\n",
       "    var id = msg.content.data.id;\n",
       "    // Get hold of the div created by the display call when the Comm\n",
       "    // socket was opened in Python.\n",
       "    var element = $(\"#\" + id);\n",
       "    var ws_proxy = comm_websocket_adapter(comm)\n",
       "\n",
       "    function ondownload(figure, format) {\n",
       "        window.open(figure.imageObj.src);\n",
       "    }\n",
       "\n",
       "    var fig = new mpl.figure(id, ws_proxy,\n",
       "                           ondownload,\n",
       "                           element.get(0));\n",
       "\n",
       "    // Call onopen now - mpl needs it, as it is assuming we've passed it a real\n",
       "    // web socket which is closed, not our websocket->open comm proxy.\n",
       "    ws_proxy.onopen();\n",
       "\n",
       "    fig.parent_element = element.get(0);\n",
       "    fig.cell_info = mpl.find_output_cell(\"<div id='\" + id + \"'></div>\");\n",
       "    if (!fig.cell_info) {\n",
       "        console.error(\"Failed to find cell for figure\", id, fig);\n",
       "        return;\n",
       "    }\n",
       "\n",
       "    var output_index = fig.cell_info[2]\n",
       "    var cell = fig.cell_info[0];\n",
       "\n",
       "};\n",
       "\n",
       "mpl.figure.prototype.handle_close = function(fig, msg) {\n",
       "    var width = fig.canvas.width/mpl.ratio\n",
       "    fig.root.unbind('remove')\n",
       "\n",
       "    // Update the output cell to use the data from the current canvas.\n",
       "    fig.push_to_output();\n",
       "    var dataURL = fig.canvas.toDataURL();\n",
       "    // Re-enable the keyboard manager in IPython - without this line, in FF,\n",
       "    // the notebook keyboard shortcuts fail.\n",
       "    IPython.keyboard_manager.enable()\n",
       "    $(fig.parent_element).html('<img src=\"' + dataURL + '\" width=\"' + width + '\">');\n",
       "    fig.close_ws(fig, msg);\n",
       "}\n",
       "\n",
       "mpl.figure.prototype.close_ws = function(fig, msg){\n",
       "    fig.send_message('closing', msg);\n",
       "    // fig.ws.close()\n",
       "}\n",
       "\n",
       "mpl.figure.prototype.push_to_output = function(remove_interactive) {\n",
       "    // Turn the data on the canvas into data in the output cell.\n",
       "    var width = this.canvas.width/mpl.ratio\n",
       "    var dataURL = this.canvas.toDataURL();\n",
       "    this.cell_info[1]['text/html'] = '<img src=\"' + dataURL + '\" width=\"' + width + '\">';\n",
       "}\n",
       "\n",
       "mpl.figure.prototype.updated_canvas_event = function() {\n",
       "    // Tell IPython that the notebook contents must change.\n",
       "    IPython.notebook.set_dirty(true);\n",
       "    this.send_message(\"ack\", {});\n",
       "    var fig = this;\n",
       "    // Wait a second, then push the new image to the DOM so\n",
       "    // that it is saved nicely (might be nice to debounce this).\n",
       "    setTimeout(function () { fig.push_to_output() }, 1000);\n",
       "}\n",
       "\n",
       "mpl.figure.prototype._init_toolbar = function() {\n",
       "    var fig = this;\n",
       "\n",
       "    var nav_element = $('<div/>')\n",
       "    nav_element.attr('style', 'width: 100%');\n",
       "    this.root.append(nav_element);\n",
       "\n",
       "    // Define a callback function for later on.\n",
       "    function toolbar_event(event) {\n",
       "        return fig.toolbar_button_onclick(event['data']);\n",
       "    }\n",
       "    function toolbar_mouse_event(event) {\n",
       "        return fig.toolbar_button_onmouseover(event['data']);\n",
       "    }\n",
       "\n",
       "    for(var toolbar_ind in mpl.toolbar_items){\n",
       "        var name = mpl.toolbar_items[toolbar_ind][0];\n",
       "        var tooltip = mpl.toolbar_items[toolbar_ind][1];\n",
       "        var image = mpl.toolbar_items[toolbar_ind][2];\n",
       "        var method_name = mpl.toolbar_items[toolbar_ind][3];\n",
       "\n",
       "        if (!name) { continue; };\n",
       "\n",
       "        var button = $('<button class=\"btn btn-default\" href=\"#\" title=\"' + name + '\"><i class=\"fa ' + image + ' fa-lg\"></i></button>');\n",
       "        button.click(method_name, toolbar_event);\n",
       "        button.mouseover(tooltip, toolbar_mouse_event);\n",
       "        nav_element.append(button);\n",
       "    }\n",
       "\n",
       "    // Add the status bar.\n",
       "    var status_bar = $('<span class=\"mpl-message\" style=\"text-align:right; float: right;\"/>');\n",
       "    nav_element.append(status_bar);\n",
       "    this.message = status_bar[0];\n",
       "\n",
       "    // Add the close button to the window.\n",
       "    var buttongrp = $('<div class=\"btn-group inline pull-right\"></div>');\n",
       "    var button = $('<button class=\"btn btn-mini btn-primary\" href=\"#\" title=\"Stop Interaction\"><i class=\"fa fa-power-off icon-remove icon-large\"></i></button>');\n",
       "    button.click(function (evt) { fig.handle_close(fig, {}); } );\n",
       "    button.mouseover('Stop Interaction', toolbar_mouse_event);\n",
       "    buttongrp.append(button);\n",
       "    var titlebar = this.root.find($('.ui-dialog-titlebar'));\n",
       "    titlebar.prepend(buttongrp);\n",
       "}\n",
       "\n",
       "mpl.figure.prototype._root_extra_style = function(el){\n",
       "    var fig = this\n",
       "    el.on(\"remove\", function(){\n",
       "\tfig.close_ws(fig, {});\n",
       "    });\n",
       "}\n",
       "\n",
       "mpl.figure.prototype._canvas_extra_style = function(el){\n",
       "    // this is important to make the div 'focusable\n",
       "    el.attr('tabindex', 0)\n",
       "    // reach out to IPython and tell the keyboard manager to turn it's self\n",
       "    // off when our div gets focus\n",
       "\n",
       "    // location in version 3\n",
       "    if (IPython.notebook.keyboard_manager) {\n",
       "        IPython.notebook.keyboard_manager.register_events(el);\n",
       "    }\n",
       "    else {\n",
       "        // location in version 2\n",
       "        IPython.keyboard_manager.register_events(el);\n",
       "    }\n",
       "\n",
       "}\n",
       "\n",
       "mpl.figure.prototype._key_event_extra = function(event, name) {\n",
       "    var manager = IPython.notebook.keyboard_manager;\n",
       "    if (!manager)\n",
       "        manager = IPython.keyboard_manager;\n",
       "\n",
       "    // Check for shift+enter\n",
       "    if (event.shiftKey && event.which == 13) {\n",
       "        this.canvas_div.blur();\n",
       "        event.shiftKey = false;\n",
       "        // Send a \"J\" for go to next cell\n",
       "        event.which = 74;\n",
       "        event.keyCode = 74;\n",
       "        manager.command_mode();\n",
       "        manager.handle_keydown(event);\n",
       "    }\n",
       "}\n",
       "\n",
       "mpl.figure.prototype.handle_save = function(fig, msg) {\n",
       "    fig.ondownload(fig, null);\n",
       "}\n",
       "\n",
       "\n",
       "mpl.find_output_cell = function(html_output) {\n",
       "    // Return the cell and output element which can be found *uniquely* in the notebook.\n",
       "    // Note - this is a bit hacky, but it is done because the \"notebook_saving.Notebook\"\n",
       "    // IPython event is triggered only after the cells have been serialised, which for\n",
       "    // our purposes (turning an active figure into a static one), is too late.\n",
       "    var cells = IPython.notebook.get_cells();\n",
       "    var ncells = cells.length;\n",
       "    for (var i=0; i<ncells; i++) {\n",
       "        var cell = cells[i];\n",
       "        if (cell.cell_type === 'code'){\n",
       "            for (var j=0; j<cell.output_area.outputs.length; j++) {\n",
       "                var data = cell.output_area.outputs[j];\n",
       "                if (data.data) {\n",
       "                    // IPython >= 3 moved mimebundle to data attribute of output\n",
       "                    data = data.data;\n",
       "                }\n",
       "                if (data['text/html'] == html_output) {\n",
       "                    return [cell, data, j];\n",
       "                }\n",
       "            }\n",
       "        }\n",
       "    }\n",
       "}\n",
       "\n",
       "// Register the function which deals with the matplotlib target/channel.\n",
       "// The kernel may be null if the page has been refreshed.\n",
       "if (IPython.notebook.kernel != null) {\n",
       "    IPython.notebook.kernel.comm_manager.register_target('matplotlib', mpl.mpl_figure_comm);\n",
       "}\n"
      ],
      "text/plain": [
       "<IPython.core.display.Javascript object>"
      ]
     },
     "metadata": {},
     "output_type": "display_data"
    },
    {
     "data": {
      "text/html": [
       "<img src=\"data:image/png;base64,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\" width=\"800\">"
      ],
      "text/plain": [
       "<IPython.core.display.HTML object>"
      ]
     },
     "metadata": {},
     "output_type": "display_data"
    },
    {
     "name": "stdout",
     "output_type": "stream",
     "text": [
      "The data set that is being used is LD50RO3HIVTrain\n",
      "INFO:tensorflow:Restoring parameters from /mnt/HDD1/models/Train_Morgan_alogp_classes3/model500.ckpt\n",
      "batch size: 256, batch num per epoch: 24, epoch num: 5000\n",
      "start training...\n",
      "Epoch 0\n"
     ]
    },
    {
     "name": "stderr",
     "output_type": "stream",
     "text": [
      "'c' argument looks like a single numeric RGB or RGBA sequence, which should be avoided as value-mapping will have precedence in case its length matches with 'x' & 'y'.  Please use a 2-D array with a single row if you really want to specify the same RGB or RGBA value for all points.\n",
      "'c' argument looks like a single numeric RGB or RGBA sequence, which should be avoided as value-mapping will have precedence in case its length matches with 'x' & 'y'.  Please use a 2-D array with a single row if you really want to specify the same RGB or RGBA value for all points.\n",
      "'c' argument looks like a single numeric RGB or RGBA sequence, which should be avoided as value-mapping will have precedence in case its length matches with 'x' & 'y'.  Please use a 2-D array with a single row if you really want to specify the same RGB or RGBA value for all points.\n"
     ]
    },
    {
     "name": "stdout",
     "output_type": "stream",
     "text": [
      "[4e-06]\n",
      "Discriminator trainLoss = -0.040004 valLoss = -0.042412 trainAcc = 0.335039 valAcc = 156.500000\n",
      "Encoder trainLoss = -0.020307 valLoss = -0.016692 trainAcc = 0.659844 valAcc = -83.666664\n",
      "Decoder trainLoss = 0.678341 valLoss = 0.687346 trainAcc = 0.000000 valAcc = 0.829678\n",
      "Epoch 1\n"
     ]
    },
    {
     "name": "stderr",
     "output_type": "stream",
     "text": [
      "'c' argument looks like a single numeric RGB or RGBA sequence, which should be avoided as value-mapping will have precedence in case its length matches with 'x' & 'y'.  Please use a 2-D array with a single row if you really want to specify the same RGB or RGBA value for all points.\n",
      "'c' argument looks like a single numeric RGB or RGBA sequence, which should be avoided as value-mapping will have precedence in case its length matches with 'x' & 'y'.  Please use a 2-D array with a single row if you really want to specify the same RGB or RGBA value for all points.\n",
      "'c' argument looks like a single numeric RGB or RGBA sequence, which should be avoided as value-mapping will have precedence in case its length matches with 'x' & 'y'.  Please use a 2-D array with a single row if you really want to specify the same RGB or RGBA value for all points.\n"
     ]
    },
    {
     "name": "stdout",
     "output_type": "stream",
     "text": [
      "[3.997e-06]\n",
      "Discriminator trainLoss = -0.037861 valLoss = -0.039499 trainAcc = 0.352583 valAcc = 161.166656\n",
      "Encoder trainLoss = -0.021697 valLoss = -0.017929 trainAcc = 0.589669 valAcc = -93.000000\n",
      "Decoder trainLoss = 0.678711 valLoss = 0.686521 trainAcc = 0.829454 valAcc = 0.829522\n",
      "Epoch 2\n"
     ]
    },
    {
     "name": "stderr",
     "output_type": "stream",
     "text": [
      "'c' argument looks like a single numeric RGB or RGBA sequence, which should be avoided as value-mapping will have precedence in case its length matches with 'x' & 'y'.  Please use a 2-D array with a single row if you really want to specify the same RGB or RGBA value for all points.\n",
      "'c' argument looks like a single numeric RGB or RGBA sequence, which should be avoided as value-mapping will have precedence in case its length matches with 'x' & 'y'.  Please use a 2-D array with a single row if you really want to specify the same RGB or RGBA value for all points.\n",
      "'c' argument looks like a single numeric RGB or RGBA sequence, which should be avoided as value-mapping will have precedence in case its length matches with 'x' & 'y'.  Please use a 2-D array with a single row if you really want to specify the same RGB or RGBA value for all points.\n"
     ]
    },
    {
     "name": "stdout",
     "output_type": "stream",
     "text": [
      "[3.994e-06]\n",
      "Discriminator trainLoss = -0.034416 valLoss = -0.036692 trainAcc = 0.344582 valAcc = 156.833328\n",
      "Encoder trainLoss = -0.028389 valLoss = -0.024035 trainAcc = 0.621345 valAcc = -84.333336\n",
      "Decoder trainLoss = 0.678192 valLoss = 0.685673 trainAcc = 0.829427 valAcc = 0.829518\n",
      "Epoch 3\n"
     ]
    },
    {
     "name": "stderr",
     "output_type": "stream",
     "text": [
      "'c' argument looks like a single numeric RGB or RGBA sequence, which should be avoided as value-mapping will have precedence in case its length matches with 'x' & 'y'.  Please use a 2-D array with a single row if you really want to specify the same RGB or RGBA value for all points.\n",
      "'c' argument looks like a single numeric RGB or RGBA sequence, which should be avoided as value-mapping will have precedence in case its length matches with 'x' & 'y'.  Please use a 2-D array with a single row if you really want to specify the same RGB or RGBA value for all points.\n",
      "'c' argument looks like a single numeric RGB or RGBA sequence, which should be avoided as value-mapping will have precedence in case its length matches with 'x' & 'y'.  Please use a 2-D array with a single row if you really want to specify the same RGB or RGBA value for all points.\n"
     ]
    },
    {
     "name": "stdout",
     "output_type": "stream",
     "text": [
      "[3.991e-06]\n",
      "Discriminator trainLoss = -0.032045 valLoss = -0.034795 trainAcc = 0.338816 valAcc = 154.833328\n",
      "Encoder trainLoss = -0.033480 valLoss = -0.028205 trainAcc = 0.644737 valAcc = -80.333336\n",
      "Decoder trainLoss = 0.677533 valLoss = 0.685389 trainAcc = 0.829463 valAcc = 0.829570\n",
      "Epoch 4\n"
     ]
    },
    {
     "name": "stderr",
     "output_type": "stream",
     "text": [
      "'c' argument looks like a single numeric RGB or RGBA sequence, which should be avoided as value-mapping will have precedence in case its length matches with 'x' & 'y'.  Please use a 2-D array with a single row if you really want to specify the same RGB or RGBA value for all points.\n",
      "'c' argument looks like a single numeric RGB or RGBA sequence, which should be avoided as value-mapping will have precedence in case its length matches with 'x' & 'y'.  Please use a 2-D array with a single row if you really want to specify the same RGB or RGBA value for all points.\n",
      "'c' argument looks like a single numeric RGB or RGBA sequence, which should be avoided as value-mapping will have precedence in case its length matches with 'x' & 'y'.  Please use a 2-D array with a single row if you really want to specify the same RGB or RGBA value for all points.\n"
     ]
    },
    {
     "name": "stdout",
     "output_type": "stream",
     "text": [
      "[3.988e-06]\n",
      "Discriminator trainLoss = -0.030169 valLoss = -0.033514 trainAcc = 0.332846 valAcc = 153.166656\n",
      "Encoder trainLoss = -0.037278 valLoss = -0.031598 trainAcc = 0.668454 valAcc = -77.000000\n",
      "Decoder trainLoss = 0.677753 valLoss = 0.686054 trainAcc = 0.829531 valAcc = 0.829593\n",
      "Epoch 5\n"
     ]
    },
    {
     "name": "stderr",
     "output_type": "stream",
     "text": [
      "'c' argument looks like a single numeric RGB or RGBA sequence, which should be avoided as value-mapping will have precedence in case its length matches with 'x' & 'y'.  Please use a 2-D array with a single row if you really want to specify the same RGB or RGBA value for all points.\n",
      "'c' argument looks like a single numeric RGB or RGBA sequence, which should be avoided as value-mapping will have precedence in case its length matches with 'x' & 'y'.  Please use a 2-D array with a single row if you really want to specify the same RGB or RGBA value for all points.\n",
      "'c' argument looks like a single numeric RGB or RGBA sequence, which should be avoided as value-mapping will have precedence in case its length matches with 'x' & 'y'.  Please use a 2-D array with a single row if you really want to specify the same RGB or RGBA value for all points.\n"
     ]
    },
    {
     "name": "stdout",
     "output_type": "stream",
     "text": [
      "[3.985e-06]\n",
      "Discriminator trainLoss = -0.028220 valLoss = -0.031986 trainAcc = 0.326389 valAcc = 149.833328\n",
      "Encoder trainLoss = -0.042248 valLoss = -0.035284 trainAcc = 0.694444 valAcc = -70.333336\n",
      "Decoder trainLoss = 0.677800 valLoss = 0.685968 trainAcc = 0.829556 valAcc = 0.829592\n",
      "Epoch 6\n"
     ]
    },
    {
     "name": "stderr",
     "output_type": "stream",
     "text": [
      "'c' argument looks like a single numeric RGB or RGBA sequence, which should be avoided as value-mapping will have precedence in case its length matches with 'x' & 'y'.  Please use a 2-D array with a single row if you really want to specify the same RGB or RGBA value for all points.\n",
      "'c' argument looks like a single numeric RGB or RGBA sequence, which should be avoided as value-mapping will have precedence in case its length matches with 'x' & 'y'.  Please use a 2-D array with a single row if you really want to specify the same RGB or RGBA value for all points.\n",
      "'c' argument looks like a single numeric RGB or RGBA sequence, which should be avoided as value-mapping will have precedence in case its length matches with 'x' & 'y'.  Please use a 2-D array with a single row if you really want to specify the same RGB or RGBA value for all points.\n"
     ]
    },
    {
     "name": "stdout",
     "output_type": "stream",
     "text": [
      "[3.982e-06]\n",
      "Discriminator trainLoss = -0.026813 valLoss = -0.031445 trainAcc = 0.323830 valAcc = 150.166656\n",
      "Encoder trainLoss = -0.045342 valLoss = -0.037046 trainAcc = 0.704516 valAcc = -71.000000\n",
      "Decoder trainLoss = 0.678111 valLoss = 0.686298 trainAcc = 0.829561 valAcc = 0.829583\n",
      "Epoch 7\n"
     ]
    },
    {
     "name": "stderr",
     "output_type": "stream",
     "text": [
      "'c' argument looks like a single numeric RGB or RGBA sequence, which should be avoided as value-mapping will have precedence in case its length matches with 'x' & 'y'.  Please use a 2-D array with a single row if you really want to specify the same RGB or RGBA value for all points.\n",
      "'c' argument looks like a single numeric RGB or RGBA sequence, which should be avoided as value-mapping will have precedence in case its length matches with 'x' & 'y'.  Please use a 2-D array with a single row if you really want to specify the same RGB or RGBA value for all points.\n",
      "'c' argument looks like a single numeric RGB or RGBA sequence, which should be avoided as value-mapping will have precedence in case its length matches with 'x' & 'y'.  Please use a 2-D array with a single row if you really want to specify the same RGB or RGBA value for all points.\n"
     ]
    },
    {
     "name": "stdout",
     "output_type": "stream",
     "text": [
      "[3.979e-06]\n",
      "Discriminator trainLoss = -0.025779 valLoss = -0.030673 trainAcc = 0.319607 valAcc = 147.666656\n",
      "Encoder trainLoss = -0.047892 valLoss = -0.039470 trainAcc = 0.721248 valAcc = -66.000000\n",
      "Decoder trainLoss = 0.678301 valLoss = 0.686184 trainAcc = 0.829555 valAcc = 0.829566\n",
      "Epoch 8\n"
     ]
    },
    {
     "name": "stderr",
     "output_type": "stream",
     "text": [
      "'c' argument looks like a single numeric RGB or RGBA sequence, which should be avoided as value-mapping will have precedence in case its length matches with 'x' & 'y'.  Please use a 2-D array with a single row if you really want to specify the same RGB or RGBA value for all points.\n",
      "'c' argument looks like a single numeric RGB or RGBA sequence, which should be avoided as value-mapping will have precedence in case its length matches with 'x' & 'y'.  Please use a 2-D array with a single row if you really want to specify the same RGB or RGBA value for all points.\n",
      "'c' argument looks like a single numeric RGB or RGBA sequence, which should be avoided as value-mapping will have precedence in case its length matches with 'x' & 'y'.  Please use a 2-D array with a single row if you really want to specify the same RGB or RGBA value for all points.\n"
     ]
    },
    {
     "name": "stdout",
     "output_type": "stream",
     "text": [
      "[3.976e-06]\n",
      "Discriminator trainLoss = -0.024956 valLoss = -0.029868 trainAcc = 0.316236 valAcc = 146.333328\n",
      "Encoder trainLoss = -0.050149 valLoss = -0.040996 trainAcc = 0.734893 valAcc = -63.666664\n",
      "Decoder trainLoss = 0.678255 valLoss = 0.686255 trainAcc = 0.829542 valAcc = 0.829554\n",
      "Epoch 9\n"
     ]
    },
    {
     "name": "stderr",
     "output_type": "stream",
     "text": [
      "'c' argument looks like a single numeric RGB or RGBA sequence, which should be avoided as value-mapping will have precedence in case its length matches with 'x' & 'y'.  Please use a 2-D array with a single row if you really want to specify the same RGB or RGBA value for all points.\n",
      "'c' argument looks like a single numeric RGB or RGBA sequence, which should be avoided as value-mapping will have precedence in case its length matches with 'x' & 'y'.  Please use a 2-D array with a single row if you really want to specify the same RGB or RGBA value for all points.\n",
      "'c' argument looks like a single numeric RGB or RGBA sequence, which should be avoided as value-mapping will have precedence in case its length matches with 'x' & 'y'.  Please use a 2-D array with a single row if you really want to specify the same RGB or RGBA value for all points.\n"
     ]
    },
    {
     "name": "stdout",
     "output_type": "stream",
     "text": [
      "[3.9730003e-06]\n",
      "Discriminator trainLoss = -0.023845 valLoss = -0.029757 trainAcc = 0.314855 valAcc = 146.666656\n",
      "Encoder trainLoss = -0.052500 valLoss = -0.042922 trainAcc = 0.740253 valAcc = -64.000000\n",
      "Decoder trainLoss = 0.678698 valLoss = 0.686811 trainAcc = 0.829533 valAcc = 0.829536\n",
      "Epoch 10\n"
     ]
    },
    {
     "name": "stderr",
     "output_type": "stream",
     "text": [
      "'c' argument looks like a single numeric RGB or RGBA sequence, which should be avoided as value-mapping will have precedence in case its length matches with 'x' & 'y'.  Please use a 2-D array with a single row if you really want to specify the same RGB or RGBA value for all points.\n",
      "'c' argument looks like a single numeric RGB or RGBA sequence, which should be avoided as value-mapping will have precedence in case its length matches with 'x' & 'y'.  Please use a 2-D array with a single row if you really want to specify the same RGB or RGBA value for all points.\n",
      "'c' argument looks like a single numeric RGB or RGBA sequence, which should be avoided as value-mapping will have precedence in case its length matches with 'x' & 'y'.  Please use a 2-D array with a single row if you really want to specify the same RGB or RGBA value for all points.\n"
     ]
    },
    {
     "name": "stdout",
     "output_type": "stream",
     "text": [
      "[3.97e-06]\n",
      "Discriminator trainLoss = -0.022612 valLoss = -0.028970 trainAcc = 0.311769 valAcc = 146.000000\n",
      "Encoder trainLoss = -0.055793 valLoss = -0.045419 trainAcc = 0.752924 valAcc = -62.666668\n",
      "Decoder trainLoss = 0.679066 valLoss = 0.687315 trainAcc = 0.829517 valAcc = 0.829514\n",
      "Epoch 11\n"
     ]
    },
    {
     "name": "stderr",
     "output_type": "stream",
     "text": [
      "'c' argument looks like a single numeric RGB or RGBA sequence, which should be avoided as value-mapping will have precedence in case its length matches with 'x' & 'y'.  Please use a 2-D array with a single row if you really want to specify the same RGB or RGBA value for all points.\n",
      "'c' argument looks like a single numeric RGB or RGBA sequence, which should be avoided as value-mapping will have precedence in case its length matches with 'x' & 'y'.  Please use a 2-D array with a single row if you really want to specify the same RGB or RGBA value for all points.\n",
      "'c' argument looks like a single numeric RGB or RGBA sequence, which should be avoided as value-mapping will have precedence in case its length matches with 'x' & 'y'.  Please use a 2-D array with a single row if you really want to specify the same RGB or RGBA value for all points.\n"
     ]
    },
    {
     "name": "stdout",
     "output_type": "stream",
     "text": [
      "[3.9670003e-06]\n",
      "Discriminator trainLoss = -0.022267 valLoss = -0.028112 trainAcc = 0.309495 valAcc = 145.666656\n",
      "Encoder trainLoss = -0.056818 valLoss = -0.045714 trainAcc = 0.761696 valAcc = -62.000000\n",
      "Decoder trainLoss = 0.679497 valLoss = 0.687680 trainAcc = 0.829495 valAcc = 0.829486\n",
      "Epoch 12\n"
     ]
    },
    {
     "name": "stderr",
     "output_type": "stream",
     "text": [
      "'c' argument looks like a single numeric RGB or RGBA sequence, which should be avoided as value-mapping will have precedence in case its length matches with 'x' & 'y'.  Please use a 2-D array with a single row if you really want to specify the same RGB or RGBA value for all points.\n",
      "'c' argument looks like a single numeric RGB or RGBA sequence, which should be avoided as value-mapping will have precedence in case its length matches with 'x' & 'y'.  Please use a 2-D array with a single row if you really want to specify the same RGB or RGBA value for all points.\n",
      "'c' argument looks like a single numeric RGB or RGBA sequence, which should be avoided as value-mapping will have precedence in case its length matches with 'x' & 'y'.  Please use a 2-D array with a single row if you really want to specify the same RGB or RGBA value for all points.\n"
     ]
    },
    {
     "name": "stdout",
     "output_type": "stream",
     "text": [
      "[3.964e-06]\n",
      "Discriminator trainLoss = -0.020812 valLoss = -0.027490 trainAcc = 0.306977 valAcc = 143.833328\n",
      "Encoder trainLoss = -0.059895 valLoss = -0.048325 trainAcc = 0.771767 valAcc = -58.333332\n",
      "Decoder trainLoss = 0.679948 valLoss = 0.688769 trainAcc = 0.829468 valAcc = 0.829452\n",
      "Epoch 13\n"
     ]
    },
    {
     "name": "stderr",
     "output_type": "stream",
     "text": [
      "'c' argument looks like a single numeric RGB or RGBA sequence, which should be avoided as value-mapping will have precedence in case its length matches with 'x' & 'y'.  Please use a 2-D array with a single row if you really want to specify the same RGB or RGBA value for all points.\n",
      "'c' argument looks like a single numeric RGB or RGBA sequence, which should be avoided as value-mapping will have precedence in case its length matches with 'x' & 'y'.  Please use a 2-D array with a single row if you really want to specify the same RGB or RGBA value for all points.\n",
      "'c' argument looks like a single numeric RGB or RGBA sequence, which should be avoided as value-mapping will have precedence in case its length matches with 'x' & 'y'.  Please use a 2-D array with a single row if you really want to specify the same RGB or RGBA value for all points.\n"
     ]
    },
    {
     "name": "stdout",
     "output_type": "stream",
     "text": [
      "[3.961e-06]\n",
      "Discriminator trainLoss = -0.020318 valLoss = -0.025846 trainAcc = 0.305880 valAcc = 143.666656\n",
      "Encoder trainLoss = -0.060968 valLoss = -0.050327 trainAcc = 0.776478 valAcc = -58.000000\n",
      "Decoder trainLoss = 0.680738 valLoss = 0.689538 trainAcc = 0.829434 valAcc = 0.829409\n",
      "Epoch 14\n"
     ]
    },
    {
     "name": "stderr",
     "output_type": "stream",
     "text": [
      "'c' argument looks like a single numeric RGB or RGBA sequence, which should be avoided as value-mapping will have precedence in case its length matches with 'x' & 'y'.  Please use a 2-D array with a single row if you really want to specify the same RGB or RGBA value for all points.\n",
      "'c' argument looks like a single numeric RGB or RGBA sequence, which should be avoided as value-mapping will have precedence in case its length matches with 'x' & 'y'.  Please use a 2-D array with a single row if you really want to specify the same RGB or RGBA value for all points.\n",
      "'c' argument looks like a single numeric RGB or RGBA sequence, which should be avoided as value-mapping will have precedence in case its length matches with 'x' & 'y'.  Please use a 2-D array with a single row if you really want to specify the same RGB or RGBA value for all points.\n"
     ]
    },
    {
     "name": "stdout",
     "output_type": "stream",
     "text": [
      "[3.958e-06]\n",
      "Discriminator trainLoss = -0.019655 valLoss = -0.026287 trainAcc = 0.303891 valAcc = 142.500000\n",
      "Encoder trainLoss = -0.062773 valLoss = -0.051518 trainAcc = 0.783951 valAcc = -56.000000\n",
      "Decoder trainLoss = 0.680905 valLoss = 0.689598 trainAcc = 0.829390 valAcc = 0.829366\n",
      "Epoch 15\n"
     ]
    },
    {
     "name": "stderr",
     "output_type": "stream",
     "text": [
      "'c' argument looks like a single numeric RGB or RGBA sequence, which should be avoided as value-mapping will have precedence in case its length matches with 'x' & 'y'.  Please use a 2-D array with a single row if you really want to specify the same RGB or RGBA value for all points.\n",
      "'c' argument looks like a single numeric RGB or RGBA sequence, which should be avoided as value-mapping will have precedence in case its length matches with 'x' & 'y'.  Please use a 2-D array with a single row if you really want to specify the same RGB or RGBA value for all points.\n",
      "'c' argument looks like a single numeric RGB or RGBA sequence, which should be avoided as value-mapping will have precedence in case its length matches with 'x' & 'y'.  Please use a 2-D array with a single row if you really want to specify the same RGB or RGBA value for all points.\n"
     ]
    },
    {
     "name": "stdout",
     "output_type": "stream",
     "text": [
      "[3.955e-06]\n",
      "Discriminator trainLoss = -0.018269 valLoss = -0.024041 trainAcc = 0.302916 valAcc = 142.500000\n",
      "Encoder trainLoss = -0.065389 valLoss = -0.054397 trainAcc = 0.788337 valAcc = -55.666668\n",
      "Decoder trainLoss = 0.681571 valLoss = 0.690294 trainAcc = 0.829349 valAcc = 0.829322\n",
      "Epoch 16\n"
     ]
    },
    {
     "name": "stderr",
     "output_type": "stream",
     "text": [
      "'c' argument looks like a single numeric RGB or RGBA sequence, which should be avoided as value-mapping will have precedence in case its length matches with 'x' & 'y'.  Please use a 2-D array with a single row if you really want to specify the same RGB or RGBA value for all points.\n",
      "'c' argument looks like a single numeric RGB or RGBA sequence, which should be avoided as value-mapping will have precedence in case its length matches with 'x' & 'y'.  Please use a 2-D array with a single row if you really want to specify the same RGB or RGBA value for all points.\n",
      "'c' argument looks like a single numeric RGB or RGBA sequence, which should be avoided as value-mapping will have precedence in case its length matches with 'x' & 'y'.  Please use a 2-D array with a single row if you really want to specify the same RGB or RGBA value for all points.\n"
     ]
    },
    {
     "name": "stdout",
     "output_type": "stream",
     "text": [
      "[3.952e-06]\n",
      "Discriminator trainLoss = -0.017660 valLoss = -0.024184 trainAcc = 0.301941 valAcc = 142.333328\n",
      "Encoder trainLoss = -0.066662 valLoss = -0.055351 trainAcc = 0.791585 valAcc = -55.333332\n",
      "Decoder trainLoss = 0.681553 valLoss = 0.690387 trainAcc = 0.829305 valAcc = 0.829278\n",
      "Epoch 17\n"
     ]
    },
    {
     "name": "stderr",
     "output_type": "stream",
     "text": [
      "'c' argument looks like a single numeric RGB or RGBA sequence, which should be avoided as value-mapping will have precedence in case its length matches with 'x' & 'y'.  Please use a 2-D array with a single row if you really want to specify the same RGB or RGBA value for all points.\n",
      "'c' argument looks like a single numeric RGB or RGBA sequence, which should be avoided as value-mapping will have precedence in case its length matches with 'x' & 'y'.  Please use a 2-D array with a single row if you really want to specify the same RGB or RGBA value for all points.\n",
      "'c' argument looks like a single numeric RGB or RGBA sequence, which should be avoided as value-mapping will have precedence in case its length matches with 'x' & 'y'.  Please use a 2-D array with a single row if you really want to specify the same RGB or RGBA value for all points.\n"
     ]
    },
    {
     "name": "stdout",
     "output_type": "stream",
     "text": [
      "[3.949e-06]\n",
      "Discriminator trainLoss = -0.017315 valLoss = -0.024088 trainAcc = 0.301007 valAcc = 142.333328\n",
      "Encoder trainLoss = -0.067514 valLoss = -0.055646 trainAcc = 0.795647 valAcc = -55.333332\n",
      "Decoder trainLoss = 0.681527 valLoss = 0.690371 trainAcc = 0.829262 valAcc = 0.829241\n",
      "Epoch 18\n"
     ]
    },
    {
     "name": "stderr",
     "output_type": "stream",
     "text": [
      "'c' argument looks like a single numeric RGB or RGBA sequence, which should be avoided as value-mapping will have precedence in case its length matches with 'x' & 'y'.  Please use a 2-D array with a single row if you really want to specify the same RGB or RGBA value for all points.\n",
      "'c' argument looks like a single numeric RGB or RGBA sequence, which should be avoided as value-mapping will have precedence in case its length matches with 'x' & 'y'.  Please use a 2-D array with a single row if you really want to specify the same RGB or RGBA value for all points.\n",
      "'c' argument looks like a single numeric RGB or RGBA sequence, which should be avoided as value-mapping will have precedence in case its length matches with 'x' & 'y'.  Please use a 2-D array with a single row if you really want to specify the same RGB or RGBA value for all points.\n"
     ]
    },
    {
     "name": "stdout",
     "output_type": "stream",
     "text": [
      "[3.946e-06]\n",
      "Discriminator trainLoss = -0.017427 valLoss = -0.024666 trainAcc = 0.300357 valAcc = 142.333328\n",
      "Encoder trainLoss = -0.068183 valLoss = -0.055680 trainAcc = 0.798246 valAcc = -55.333332\n",
      "Decoder trainLoss = 0.681388 valLoss = 0.690119 trainAcc = 0.829227 valAcc = 0.829214\n",
      "Epoch 19\n"
     ]
    },
    {
     "name": "stderr",
     "output_type": "stream",
     "text": [
      "'c' argument looks like a single numeric RGB or RGBA sequence, which should be avoided as value-mapping will have precedence in case its length matches with 'x' & 'y'.  Please use a 2-D array with a single row if you really want to specify the same RGB or RGBA value for all points.\n",
      "'c' argument looks like a single numeric RGB or RGBA sequence, which should be avoided as value-mapping will have precedence in case its length matches with 'x' & 'y'.  Please use a 2-D array with a single row if you really want to specify the same RGB or RGBA value for all points.\n",
      "'c' argument looks like a single numeric RGB or RGBA sequence, which should be avoided as value-mapping will have precedence in case its length matches with 'x' & 'y'.  Please use a 2-D array with a single row if you really want to specify the same RGB or RGBA value for all points.\n"
     ]
    },
    {
     "name": "stdout",
     "output_type": "stream",
     "text": [
      "[3.943e-06]\n",
      "Discriminator trainLoss = -0.016746 valLoss = -0.023867 trainAcc = 0.299748 valAcc = 142.333328\n",
      "Encoder trainLoss = -0.069536 valLoss = -0.056611 trainAcc = 0.801007 valAcc = -55.333332\n",
      "Decoder trainLoss = 0.681408 valLoss = 0.689913 trainAcc = 0.829202 valAcc = 0.829192\n",
      "Epoch 20\n"
     ]
    },
    {
     "name": "stderr",
     "output_type": "stream",
     "text": [
      "'c' argument looks like a single numeric RGB or RGBA sequence, which should be avoided as value-mapping will have precedence in case its length matches with 'x' & 'y'.  Please use a 2-D array with a single row if you really want to specify the same RGB or RGBA value for all points.\n",
      "'c' argument looks like a single numeric RGB or RGBA sequence, which should be avoided as value-mapping will have precedence in case its length matches with 'x' & 'y'.  Please use a 2-D array with a single row if you really want to specify the same RGB or RGBA value for all points.\n",
      "'c' argument looks like a single numeric RGB or RGBA sequence, which should be avoided as value-mapping will have precedence in case its length matches with 'x' & 'y'.  Please use a 2-D array with a single row if you really want to specify the same RGB or RGBA value for all points.\n"
     ]
    },
    {
     "name": "stdout",
     "output_type": "stream",
     "text": [
      "[3.94e-06]\n",
      "Discriminator trainLoss = -0.016308 valLoss = -0.024054 trainAcc = 0.299098 valAcc = 142.500000\n",
      "Encoder trainLoss = -0.070628 valLoss = -0.057372 trainAcc = 0.803606 valAcc = -55.666668\n",
      "Decoder trainLoss = 0.681553 valLoss = 0.690525 trainAcc = 0.829180 valAcc = 0.829168\n",
      "Epoch 21\n"
     ]
    },
    {
     "name": "stderr",
     "output_type": "stream",
     "text": [
      "'c' argument looks like a single numeric RGB or RGBA sequence, which should be avoided as value-mapping will have precedence in case its length matches with 'x' & 'y'.  Please use a 2-D array with a single row if you really want to specify the same RGB or RGBA value for all points.\n",
      "'c' argument looks like a single numeric RGB or RGBA sequence, which should be avoided as value-mapping will have precedence in case its length matches with 'x' & 'y'.  Please use a 2-D array with a single row if you really want to specify the same RGB or RGBA value for all points.\n",
      "'c' argument looks like a single numeric RGB or RGBA sequence, which should be avoided as value-mapping will have precedence in case its length matches with 'x' & 'y'.  Please use a 2-D array with a single row if you really want to specify the same RGB or RGBA value for all points.\n"
     ]
    },
    {
     "name": "stdout",
     "output_type": "stream",
     "text": [
      "[3.9369997e-06]\n",
      "Discriminator trainLoss = -0.015861 valLoss = -0.023822 trainAcc = 0.298083 valAcc = 142.833328\n",
      "Encoder trainLoss = -0.071518 valLoss = -0.057760 trainAcc = 0.807667 valAcc = -56.333332\n",
      "Decoder trainLoss = 0.681583 valLoss = 0.690600 trainAcc = 0.829157 valAcc = 0.829146\n",
      "Epoch 22\n"
     ]
    },
    {
     "name": "stderr",
     "output_type": "stream",
     "text": [
      "'c' argument looks like a single numeric RGB or RGBA sequence, which should be avoided as value-mapping will have precedence in case its length matches with 'x' & 'y'.  Please use a 2-D array with a single row if you really want to specify the same RGB or RGBA value for all points.\n",
      "'c' argument looks like a single numeric RGB or RGBA sequence, which should be avoided as value-mapping will have precedence in case its length matches with 'x' & 'y'.  Please use a 2-D array with a single row if you really want to specify the same RGB or RGBA value for all points.\n",
      "'c' argument looks like a single numeric RGB or RGBA sequence, which should be avoided as value-mapping will have precedence in case its length matches with 'x' & 'y'.  Please use a 2-D array with a single row if you really want to specify the same RGB or RGBA value for all points.\n"
     ]
    },
    {
     "name": "stdout",
     "output_type": "stream",
     "text": [
      "[3.934e-06]\n",
      "Discriminator trainLoss = -0.015214 valLoss = -0.022777 trainAcc = 0.298002 valAcc = 142.166656\n",
      "Encoder trainLoss = -0.073024 valLoss = -0.058973 trainAcc = 0.807830 valAcc = -55.000000\n",
      "Decoder trainLoss = 0.681502 valLoss = 0.690561 trainAcc = 0.829134 valAcc = 0.829125\n",
      "Epoch 23\n"
     ]
    },
    {
     "name": "stderr",
     "output_type": "stream",
     "text": [
      "'c' argument looks like a single numeric RGB or RGBA sequence, which should be avoided as value-mapping will have precedence in case its length matches with 'x' & 'y'.  Please use a 2-D array with a single row if you really want to specify the same RGB or RGBA value for all points.\n",
      "'c' argument looks like a single numeric RGB or RGBA sequence, which should be avoided as value-mapping will have precedence in case its length matches with 'x' & 'y'.  Please use a 2-D array with a single row if you really want to specify the same RGB or RGBA value for all points.\n",
      "'c' argument looks like a single numeric RGB or RGBA sequence, which should be avoided as value-mapping will have precedence in case its length matches with 'x' & 'y'.  Please use a 2-D array with a single row if you really want to specify the same RGB or RGBA value for all points.\n"
     ]
    },
    {
     "name": "stdout",
     "output_type": "stream",
     "text": [
      "[3.9310003e-06]\n",
      "Discriminator trainLoss = -0.015311 valLoss = -0.023111 trainAcc = 0.296378 valAcc = 141.666672\n",
      "Encoder trainLoss = -0.072937 valLoss = -0.058751 trainAcc = 0.814490 valAcc = -54.333332\n",
      "Decoder trainLoss = 0.681870 valLoss = 0.690990 trainAcc = 0.829115 valAcc = 0.829101\n",
      "Epoch 24\n"
     ]
    },
    {
     "name": "stderr",
     "output_type": "stream",
     "text": [
      "'c' argument looks like a single numeric RGB or RGBA sequence, which should be avoided as value-mapping will have precedence in case its length matches with 'x' & 'y'.  Please use a 2-D array with a single row if you really want to specify the same RGB or RGBA value for all points.\n",
      "'c' argument looks like a single numeric RGB or RGBA sequence, which should be avoided as value-mapping will have precedence in case its length matches with 'x' & 'y'.  Please use a 2-D array with a single row if you really want to specify the same RGB or RGBA value for all points.\n",
      "'c' argument looks like a single numeric RGB or RGBA sequence, which should be avoided as value-mapping will have precedence in case its length matches with 'x' & 'y'.  Please use a 2-D array with a single row if you really want to specify the same RGB or RGBA value for all points.\n"
     ]
    },
    {
     "name": "stdout",
     "output_type": "stream",
     "text": [
      "[3.9280003e-06]\n",
      "Discriminator trainLoss = -0.014688 valLoss = -0.022301 trainAcc = 0.296215 valAcc = 142.000000\n",
      "Encoder trainLoss = -0.074653 valLoss = -0.059629 trainAcc = 0.815140 valAcc = -54.666668\n",
      "Decoder trainLoss = 0.681828 valLoss = 0.690952 trainAcc = 0.829091 valAcc = 0.829080\n",
      "Epoch 25\n"
     ]
    },
    {
     "name": "stderr",
     "output_type": "stream",
     "text": [
      "'c' argument looks like a single numeric RGB or RGBA sequence, which should be avoided as value-mapping will have precedence in case its length matches with 'x' & 'y'.  Please use a 2-D array with a single row if you really want to specify the same RGB or RGBA value for all points.\n",
      "'c' argument looks like a single numeric RGB or RGBA sequence, which should be avoided as value-mapping will have precedence in case its length matches with 'x' & 'y'.  Please use a 2-D array with a single row if you really want to specify the same RGB or RGBA value for all points.\n",
      "'c' argument looks like a single numeric RGB or RGBA sequence, which should be avoided as value-mapping will have precedence in case its length matches with 'x' & 'y'.  Please use a 2-D array with a single row if you really want to specify the same RGB or RGBA value for all points.\n"
     ]
    },
    {
     "name": "stdout",
     "output_type": "stream",
     "text": [
      "[3.9250003e-06]\n",
      "Discriminator trainLoss = -0.014565 valLoss = -0.022414 trainAcc = 0.295322 valAcc = 141.166672\n",
      "Encoder trainLoss = -0.075335 valLoss = -0.059839 trainAcc = 0.818713 valAcc = -53.333332\n",
      "Decoder trainLoss = 0.681650 valLoss = 0.690682 trainAcc = 0.829071 valAcc = 0.829067\n",
      "Epoch 26\n"
     ]
    },
    {
     "name": "stderr",
     "output_type": "stream",
     "text": [
      "'c' argument looks like a single numeric RGB or RGBA sequence, which should be avoided as value-mapping will have precedence in case its length matches with 'x' & 'y'.  Please use a 2-D array with a single row if you really want to specify the same RGB or RGBA value for all points.\n",
      "'c' argument looks like a single numeric RGB or RGBA sequence, which should be avoided as value-mapping will have precedence in case its length matches with 'x' & 'y'.  Please use a 2-D array with a single row if you really want to specify the same RGB or RGBA value for all points.\n",
      "'c' argument looks like a single numeric RGB or RGBA sequence, which should be avoided as value-mapping will have precedence in case its length matches with 'x' & 'y'.  Please use a 2-D array with a single row if you really want to specify the same RGB or RGBA value for all points.\n"
     ]
    },
    {
     "name": "stdout",
     "output_type": "stream",
     "text": [
      "[3.922e-06]\n",
      "Discriminator trainLoss = -0.013707 valLoss = -0.021786 trainAcc = 0.295078 valAcc = 140.833328\n",
      "Encoder trainLoss = -0.076893 valLoss = -0.061229 trainAcc = 0.819526 valAcc = -52.333332\n",
      "Decoder trainLoss = 0.681877 valLoss = 0.691033 trainAcc = 0.829058 valAcc = 0.829050\n",
      "Epoch 27\n"
     ]
    },
    {
     "name": "stderr",
     "output_type": "stream",
     "text": [
      "'c' argument looks like a single numeric RGB or RGBA sequence, which should be avoided as value-mapping will have precedence in case its length matches with 'x' & 'y'.  Please use a 2-D array with a single row if you really want to specify the same RGB or RGBA value for all points.\n",
      "'c' argument looks like a single numeric RGB or RGBA sequence, which should be avoided as value-mapping will have precedence in case its length matches with 'x' & 'y'.  Please use a 2-D array with a single row if you really want to specify the same RGB or RGBA value for all points.\n",
      "'c' argument looks like a single numeric RGB or RGBA sequence, which should be avoided as value-mapping will have precedence in case its length matches with 'x' & 'y'.  Please use a 2-D array with a single row if you really want to specify the same RGB or RGBA value for all points.\n"
     ]
    },
    {
     "name": "stdout",
     "output_type": "stream",
     "text": [
      "[3.919e-06]\n",
      "Discriminator trainLoss = -0.013413 valLoss = -0.022487 trainAcc = 0.294306 valAcc = 140.833328\n",
      "Encoder trainLoss = -0.077683 valLoss = -0.061605 trainAcc = 0.822775 valAcc = -52.333332\n",
      "Decoder trainLoss = 0.681698 valLoss = 0.690902 trainAcc = 0.829041 valAcc = 0.829035\n",
      "Epoch 28\n"
     ]
    },
    {
     "name": "stderr",
     "output_type": "stream",
     "text": [
      "'c' argument looks like a single numeric RGB or RGBA sequence, which should be avoided as value-mapping will have precedence in case its length matches with 'x' & 'y'.  Please use a 2-D array with a single row if you really want to specify the same RGB or RGBA value for all points.\n",
      "'c' argument looks like a single numeric RGB or RGBA sequence, which should be avoided as value-mapping will have precedence in case its length matches with 'x' & 'y'.  Please use a 2-D array with a single row if you really want to specify the same RGB or RGBA value for all points.\n",
      "'c' argument looks like a single numeric RGB or RGBA sequence, which should be avoided as value-mapping will have precedence in case its length matches with 'x' & 'y'.  Please use a 2-D array with a single row if you really want to specify the same RGB or RGBA value for all points.\n"
     ]
    },
    {
     "name": "stdout",
     "output_type": "stream",
     "text": [
      "[3.916e-06]\n",
      "Discriminator trainLoss = -0.013312 valLoss = -0.021617 trainAcc = 0.293291 valAcc = 140.500000\n",
      "Encoder trainLoss = -0.078309 valLoss = -0.062133 trainAcc = 0.826836 valAcc = -51.666668\n",
      "Decoder trainLoss = 0.681553 valLoss = 0.690749 trainAcc = 0.829026 valAcc = 0.829024\n",
      "Epoch 29\n"
     ]
    },
    {
     "name": "stderr",
     "output_type": "stream",
     "text": [
      "'c' argument looks like a single numeric RGB or RGBA sequence, which should be avoided as value-mapping will have precedence in case its length matches with 'x' & 'y'.  Please use a 2-D array with a single row if you really want to specify the same RGB or RGBA value for all points.\n",
      "'c' argument looks like a single numeric RGB or RGBA sequence, which should be avoided as value-mapping will have precedence in case its length matches with 'x' & 'y'.  Please use a 2-D array with a single row if you really want to specify the same RGB or RGBA value for all points.\n",
      "'c' argument looks like a single numeric RGB or RGBA sequence, which should be avoided as value-mapping will have precedence in case its length matches with 'x' & 'y'.  Please use a 2-D array with a single row if you really want to specify the same RGB or RGBA value for all points.\n"
     ]
    },
    {
     "name": "stdout",
     "output_type": "stream",
     "text": [
      "[3.913e-06]\n",
      "Discriminator trainLoss = -0.013062 valLoss = -0.021153 trainAcc = 0.292560 valAcc = 140.000000\n",
      "Encoder trainLoss = -0.079589 valLoss = -0.063149 trainAcc = 0.829597 valAcc = -51.000000\n",
      "Decoder trainLoss = 0.681123 valLoss = 0.690326 trainAcc = 0.829016 valAcc = 0.829018\n",
      "Epoch 30\n"
     ]
    },
    {
     "name": "stderr",
     "output_type": "stream",
     "text": [
      "'c' argument looks like a single numeric RGB or RGBA sequence, which should be avoided as value-mapping will have precedence in case its length matches with 'x' & 'y'.  Please use a 2-D array with a single row if you really want to specify the same RGB or RGBA value for all points.\n",
      "'c' argument looks like a single numeric RGB or RGBA sequence, which should be avoided as value-mapping will have precedence in case its length matches with 'x' & 'y'.  Please use a 2-D array with a single row if you really want to specify the same RGB or RGBA value for all points.\n",
      "'c' argument looks like a single numeric RGB or RGBA sequence, which should be avoided as value-mapping will have precedence in case its length matches with 'x' & 'y'.  Please use a 2-D array with a single row if you really want to specify the same RGB or RGBA value for all points.\n"
     ]
    },
    {
     "name": "stdout",
     "output_type": "stream",
     "text": [
      "[3.91e-06]\n",
      "Discriminator trainLoss = -0.012458 valLoss = -0.022081 trainAcc = 0.292113 valAcc = 140.166656\n",
      "Encoder trainLoss = -0.080190 valLoss = -0.063283 trainAcc = 0.831222 valAcc = -51.000000\n",
      "Decoder trainLoss = 0.681354 valLoss = 0.690642 trainAcc = 0.829010 valAcc = 0.829011\n",
      "Epoch 31\n"
     ]
    },
    {
     "name": "stderr",
     "output_type": "stream",
     "text": [
      "'c' argument looks like a single numeric RGB or RGBA sequence, which should be avoided as value-mapping will have precedence in case its length matches with 'x' & 'y'.  Please use a 2-D array with a single row if you really want to specify the same RGB or RGBA value for all points.\n",
      "'c' argument looks like a single numeric RGB or RGBA sequence, which should be avoided as value-mapping will have precedence in case its length matches with 'x' & 'y'.  Please use a 2-D array with a single row if you really want to specify the same RGB or RGBA value for all points.\n",
      "'c' argument looks like a single numeric RGB or RGBA sequence, which should be avoided as value-mapping will have precedence in case its length matches with 'x' & 'y'.  Please use a 2-D array with a single row if you really want to specify the same RGB or RGBA value for all points.\n"
     ]
    },
    {
     "name": "stdout",
     "output_type": "stream",
     "text": [
      "[3.907e-06]\n",
      "Discriminator trainLoss = -0.012774 valLoss = -0.023013 trainAcc = 0.291301 valAcc = 140.000000\n",
      "Encoder trainLoss = -0.080019 valLoss = -0.062827 trainAcc = 0.834470 valAcc = -50.666668\n",
      "Decoder trainLoss = 0.681620 valLoss = 0.691044 trainAcc = 0.829003 valAcc = 0.829003\n",
      "Epoch 32\n"
     ]
    },
    {
     "name": "stderr",
     "output_type": "stream",
     "text": [
      "'c' argument looks like a single numeric RGB or RGBA sequence, which should be avoided as value-mapping will have precedence in case its length matches with 'x' & 'y'.  Please use a 2-D array with a single row if you really want to specify the same RGB or RGBA value for all points.\n",
      "'c' argument looks like a single numeric RGB or RGBA sequence, which should be avoided as value-mapping will have precedence in case its length matches with 'x' & 'y'.  Please use a 2-D array with a single row if you really want to specify the same RGB or RGBA value for all points.\n",
      "'c' argument looks like a single numeric RGB or RGBA sequence, which should be avoided as value-mapping will have precedence in case its length matches with 'x' & 'y'.  Please use a 2-D array with a single row if you really want to specify the same RGB or RGBA value for all points.\n"
     ]
    },
    {
     "name": "stdout",
     "output_type": "stream",
     "text": [
      "[3.904e-06]\n",
      "Discriminator trainLoss = -0.012595 valLoss = -0.021589 trainAcc = 0.290042 valAcc = 139.833328\n",
      "Encoder trainLoss = -0.080661 valLoss = -0.063053 trainAcc = 0.839831 valAcc = -50.333332\n",
      "Decoder trainLoss = 0.681814 valLoss = 0.691132 trainAcc = 0.828996 valAcc = 0.828993\n",
      "Epoch 33\n"
     ]
    },
    {
     "name": "stderr",
     "output_type": "stream",
     "text": [
      "'c' argument looks like a single numeric RGB or RGBA sequence, which should be avoided as value-mapping will have precedence in case its length matches with 'x' & 'y'.  Please use a 2-D array with a single row if you really want to specify the same RGB or RGBA value for all points.\n",
      "'c' argument looks like a single numeric RGB or RGBA sequence, which should be avoided as value-mapping will have precedence in case its length matches with 'x' & 'y'.  Please use a 2-D array with a single row if you really want to specify the same RGB or RGBA value for all points.\n",
      "'c' argument looks like a single numeric RGB or RGBA sequence, which should be avoided as value-mapping will have precedence in case its length matches with 'x' & 'y'.  Please use a 2-D array with a single row if you really want to specify the same RGB or RGBA value for all points.\n"
     ]
    },
    {
     "name": "stdout",
     "output_type": "stream",
     "text": [
      "[3.901e-06]\n",
      "Discriminator trainLoss = -0.012291 valLoss = -0.021028 trainAcc = 0.289433 valAcc = 139.500000\n",
      "Encoder trainLoss = -0.080993 valLoss = -0.063552 trainAcc = 0.842105 valAcc = -49.666668\n",
      "Decoder trainLoss = 0.681695 valLoss = 0.690980 trainAcc = 0.828986 valAcc = 0.828985\n",
      "Epoch 34\n"
     ]
    },
    {
     "name": "stderr",
     "output_type": "stream",
     "text": [
      "'c' argument looks like a single numeric RGB or RGBA sequence, which should be avoided as value-mapping will have precedence in case its length matches with 'x' & 'y'.  Please use a 2-D array with a single row if you really want to specify the same RGB or RGBA value for all points.\n",
      "'c' argument looks like a single numeric RGB or RGBA sequence, which should be avoided as value-mapping will have precedence in case its length matches with 'x' & 'y'.  Please use a 2-D array with a single row if you really want to specify the same RGB or RGBA value for all points.\n",
      "'c' argument looks like a single numeric RGB or RGBA sequence, which should be avoided as value-mapping will have precedence in case its length matches with 'x' & 'y'.  Please use a 2-D array with a single row if you really want to specify the same RGB or RGBA value for all points.\n"
     ]
    },
    {
     "name": "stdout",
     "output_type": "stream",
     "text": [
      "[3.898e-06]\n",
      "Discriminator trainLoss = -0.011645 valLoss = -0.021627 trainAcc = 0.288337 valAcc = 139.333328\n",
      "Encoder trainLoss = -0.082416 valLoss = -0.064262 trainAcc = 0.846329 valAcc = -49.333332\n",
      "Decoder trainLoss = 0.681718 valLoss = 0.690891 trainAcc = 0.828978 valAcc = 0.828977\n",
      "Epoch 35\n"
     ]
    },
    {
     "name": "stderr",
     "output_type": "stream",
     "text": [
      "'c' argument looks like a single numeric RGB or RGBA sequence, which should be avoided as value-mapping will have precedence in case its length matches with 'x' & 'y'.  Please use a 2-D array with a single row if you really want to specify the same RGB or RGBA value for all points.\n",
      "'c' argument looks like a single numeric RGB or RGBA sequence, which should be avoided as value-mapping will have precedence in case its length matches with 'x' & 'y'.  Please use a 2-D array with a single row if you really want to specify the same RGB or RGBA value for all points.\n",
      "'c' argument looks like a single numeric RGB or RGBA sequence, which should be avoided as value-mapping will have precedence in case its length matches with 'x' & 'y'.  Please use a 2-D array with a single row if you really want to specify the same RGB or RGBA value for all points.\n"
     ]
    },
    {
     "name": "stdout",
     "output_type": "stream",
     "text": [
      "[3.895e-06]\n",
      "Discriminator trainLoss = -0.011712 valLoss = -0.021190 trainAcc = 0.287606 valAcc = 139.666656\n",
      "Encoder trainLoss = -0.082453 valLoss = -0.063933 trainAcc = 0.849578 valAcc = -50.000000\n",
      "Decoder trainLoss = 0.681799 valLoss = 0.691239 trainAcc = 0.828971 valAcc = 0.828970\n",
      "Epoch 36\n"
     ]
    },
    {
     "name": "stderr",
     "output_type": "stream",
     "text": [
      "'c' argument looks like a single numeric RGB or RGBA sequence, which should be avoided as value-mapping will have precedence in case its length matches with 'x' & 'y'.  Please use a 2-D array with a single row if you really want to specify the same RGB or RGBA value for all points.\n",
      "'c' argument looks like a single numeric RGB or RGBA sequence, which should be avoided as value-mapping will have precedence in case its length matches with 'x' & 'y'.  Please use a 2-D array with a single row if you really want to specify the same RGB or RGBA value for all points.\n",
      "'c' argument looks like a single numeric RGB or RGBA sequence, which should be avoided as value-mapping will have precedence in case its length matches with 'x' & 'y'.  Please use a 2-D array with a single row if you really want to specify the same RGB or RGBA value for all points.\n"
     ]
    },
    {
     "name": "stdout",
     "output_type": "stream",
     "text": [
      "[3.892e-06]\n",
      "Discriminator trainLoss = -0.010980 valLoss = -0.020894 trainAcc = 0.287565 valAcc = 139.666656\n",
      "Encoder trainLoss = -0.084156 valLoss = -0.065460 trainAcc = 0.849740 valAcc = -50.000000\n",
      "Decoder trainLoss = 0.681804 valLoss = 0.691244 trainAcc = 0.828963 valAcc = 0.828964\n",
      "Epoch 37\n"
     ]
    },
    {
     "name": "stderr",
     "output_type": "stream",
     "text": [
      "'c' argument looks like a single numeric RGB or RGBA sequence, which should be avoided as value-mapping will have precedence in case its length matches with 'x' & 'y'.  Please use a 2-D array with a single row if you really want to specify the same RGB or RGBA value for all points.\n",
      "'c' argument looks like a single numeric RGB or RGBA sequence, which should be avoided as value-mapping will have precedence in case its length matches with 'x' & 'y'.  Please use a 2-D array with a single row if you really want to specify the same RGB or RGBA value for all points.\n",
      "'c' argument looks like a single numeric RGB or RGBA sequence, which should be avoided as value-mapping will have precedence in case its length matches with 'x' & 'y'.  Please use a 2-D array with a single row if you really want to specify the same RGB or RGBA value for all points.\n"
     ]
    },
    {
     "name": "stdout",
     "output_type": "stream",
     "text": [
      "[3.8890003e-06]\n",
      "Discriminator trainLoss = -0.011463 valLoss = -0.021590 trainAcc = 0.287240 valAcc = 139.666656\n",
      "Encoder trainLoss = -0.083219 valLoss = -0.064615 trainAcc = 0.850715 valAcc = -50.000000\n",
      "Decoder trainLoss = 0.681403 valLoss = 0.690937 trainAcc = 0.828957 valAcc = 0.828959\n",
      "Epoch 38\n"
     ]
    },
    {
     "name": "stderr",
     "output_type": "stream",
     "text": [
      "'c' argument looks like a single numeric RGB or RGBA sequence, which should be avoided as value-mapping will have precedence in case its length matches with 'x' & 'y'.  Please use a 2-D array with a single row if you really want to specify the same RGB or RGBA value for all points.\n",
      "'c' argument looks like a single numeric RGB or RGBA sequence, which should be avoided as value-mapping will have precedence in case its length matches with 'x' & 'y'.  Please use a 2-D array with a single row if you really want to specify the same RGB or RGBA value for all points.\n",
      "'c' argument looks like a single numeric RGB or RGBA sequence, which should be avoided as value-mapping will have precedence in case its length matches with 'x' & 'y'.  Please use a 2-D array with a single row if you really want to specify the same RGB or RGBA value for all points.\n"
     ]
    },
    {
     "name": "stdout",
     "output_type": "stream",
     "text": [
      "[3.8860003e-06]\n",
      "Discriminator trainLoss = -0.010953 valLoss = -0.021037 trainAcc = 0.286956 valAcc = 139.500000\n",
      "Encoder trainLoss = -0.084142 valLoss = -0.065121 trainAcc = 0.851852 valAcc = -49.666668\n",
      "Decoder trainLoss = 0.681526 valLoss = 0.691239 trainAcc = 0.828953 valAcc = 0.828954\n",
      "Epoch 39\n"
     ]
    },
    {
     "name": "stderr",
     "output_type": "stream",
     "text": [
      "'c' argument looks like a single numeric RGB or RGBA sequence, which should be avoided as value-mapping will have precedence in case its length matches with 'x' & 'y'.  Please use a 2-D array with a single row if you really want to specify the same RGB or RGBA value for all points.\n",
      "'c' argument looks like a single numeric RGB or RGBA sequence, which should be avoided as value-mapping will have precedence in case its length matches with 'x' & 'y'.  Please use a 2-D array with a single row if you really want to specify the same RGB or RGBA value for all points.\n",
      "'c' argument looks like a single numeric RGB or RGBA sequence, which should be avoided as value-mapping will have precedence in case its length matches with 'x' & 'y'.  Please use a 2-D array with a single row if you really want to specify the same RGB or RGBA value for all points.\n"
     ]
    },
    {
     "name": "stdout",
     "output_type": "stream",
     "text": [
      "[3.8830003e-06]\n",
      "Discriminator trainLoss = -0.011286 valLoss = -0.020793 trainAcc = 0.286468 valAcc = 139.166656\n",
      "Encoder trainLoss = -0.083948 valLoss = -0.064835 trainAcc = 0.854126 valAcc = -49.000000\n",
      "Decoder trainLoss = 0.681425 valLoss = 0.690882 trainAcc = 0.828948 valAcc = 0.828951\n",
      "Epoch 40\n"
     ]
    },
    {
     "name": "stderr",
     "output_type": "stream",
     "text": [
      "'c' argument looks like a single numeric RGB or RGBA sequence, which should be avoided as value-mapping will have precedence in case its length matches with 'x' & 'y'.  Please use a 2-D array with a single row if you really want to specify the same RGB or RGBA value for all points.\n",
      "'c' argument looks like a single numeric RGB or RGBA sequence, which should be avoided as value-mapping will have precedence in case its length matches with 'x' & 'y'.  Please use a 2-D array with a single row if you really want to specify the same RGB or RGBA value for all points.\n",
      "'c' argument looks like a single numeric RGB or RGBA sequence, which should be avoided as value-mapping will have precedence in case its length matches with 'x' & 'y'.  Please use a 2-D array with a single row if you really want to specify the same RGB or RGBA value for all points.\n"
     ]
    },
    {
     "name": "stdout",
     "output_type": "stream",
     "text": [
      "[3.88e-06]\n",
      "Discriminator trainLoss = -0.011120 valLoss = -0.021269 trainAcc = 0.286022 valAcc = 138.833328\n",
      "Encoder trainLoss = -0.084140 valLoss = -0.065096 trainAcc = 0.855751 valAcc = -48.333332\n",
      "Decoder trainLoss = 0.681316 valLoss = 0.690916 trainAcc = 0.828946 valAcc = 0.828949\n",
      "Epoch 41\n"
     ]
    },
    {
     "name": "stderr",
     "output_type": "stream",
     "text": [
      "'c' argument looks like a single numeric RGB or RGBA sequence, which should be avoided as value-mapping will have precedence in case its length matches with 'x' & 'y'.  Please use a 2-D array with a single row if you really want to specify the same RGB or RGBA value for all points.\n",
      "'c' argument looks like a single numeric RGB or RGBA sequence, which should be avoided as value-mapping will have precedence in case its length matches with 'x' & 'y'.  Please use a 2-D array with a single row if you really want to specify the same RGB or RGBA value for all points.\n",
      "'c' argument looks like a single numeric RGB or RGBA sequence, which should be avoided as value-mapping will have precedence in case its length matches with 'x' & 'y'.  Please use a 2-D array with a single row if you really want to specify the same RGB or RGBA value for all points.\n"
     ]
    },
    {
     "name": "stdout",
     "output_type": "stream",
     "text": [
      "[3.877e-06]\n",
      "Discriminator trainLoss = -0.010596 valLoss = -0.020389 trainAcc = 0.285737 valAcc = 138.833328\n",
      "Encoder trainLoss = -0.085823 valLoss = -0.066692 trainAcc = 0.857050 valAcc = -48.333332\n",
      "Decoder trainLoss = 0.681179 valLoss = 0.690975 trainAcc = 0.828943 valAcc = 0.828948\n",
      "Epoch 42\n"
     ]
    },
    {
     "name": "stderr",
     "output_type": "stream",
     "text": [
      "'c' argument looks like a single numeric RGB or RGBA sequence, which should be avoided as value-mapping will have precedence in case its length matches with 'x' & 'y'.  Please use a 2-D array with a single row if you really want to specify the same RGB or RGBA value for all points.\n",
      "'c' argument looks like a single numeric RGB or RGBA sequence, which should be avoided as value-mapping will have precedence in case its length matches with 'x' & 'y'.  Please use a 2-D array with a single row if you really want to specify the same RGB or RGBA value for all points.\n",
      "'c' argument looks like a single numeric RGB or RGBA sequence, which should be avoided as value-mapping will have precedence in case its length matches with 'x' & 'y'.  Please use a 2-D array with a single row if you really want to specify the same RGB or RGBA value for all points.\n"
     ]
    },
    {
     "name": "stdout",
     "output_type": "stream",
     "text": [
      "[3.874e-06]\n",
      "Discriminator trainLoss = -0.010414 valLoss = -0.020678 trainAcc = 0.285534 valAcc = 138.833328\n",
      "Encoder trainLoss = -0.085420 valLoss = -0.066118 trainAcc = 0.857537 valAcc = -48.333332\n",
      "Decoder trainLoss = 0.681237 valLoss = 0.690808 trainAcc = 0.828942 valAcc = 0.828945\n",
      "Epoch 43\n"
     ]
    },
    {
     "name": "stderr",
     "output_type": "stream",
     "text": [
      "'c' argument looks like a single numeric RGB or RGBA sequence, which should be avoided as value-mapping will have precedence in case its length matches with 'x' & 'y'.  Please use a 2-D array with a single row if you really want to specify the same RGB or RGBA value for all points.\n",
      "'c' argument looks like a single numeric RGB or RGBA sequence, which should be avoided as value-mapping will have precedence in case its length matches with 'x' & 'y'.  Please use a 2-D array with a single row if you really want to specify the same RGB or RGBA value for all points.\n",
      "'c' argument looks like a single numeric RGB or RGBA sequence, which should be avoided as value-mapping will have precedence in case its length matches with 'x' & 'y'.  Please use a 2-D array with a single row if you really want to specify the same RGB or RGBA value for all points.\n"
     ]
    },
    {
     "name": "stdout",
     "output_type": "stream",
     "text": [
      "[3.871e-06]\n",
      "Discriminator trainLoss = -0.010633 valLoss = -0.021475 trainAcc = 0.284682 valAcc = 138.833328\n",
      "Encoder trainLoss = -0.085551 valLoss = -0.065999 trainAcc = 0.860949 valAcc = -48.333332\n",
      "Decoder trainLoss = 0.681219 valLoss = 0.690811 trainAcc = 0.828940 valAcc = 0.828944\n",
      "Epoch 44\n"
     ]
    },
    {
     "name": "stderr",
     "output_type": "stream",
     "text": [
      "'c' argument looks like a single numeric RGB or RGBA sequence, which should be avoided as value-mapping will have precedence in case its length matches with 'x' & 'y'.  Please use a 2-D array with a single row if you really want to specify the same RGB or RGBA value for all points.\n",
      "'c' argument looks like a single numeric RGB or RGBA sequence, which should be avoided as value-mapping will have precedence in case its length matches with 'x' & 'y'.  Please use a 2-D array with a single row if you really want to specify the same RGB or RGBA value for all points.\n",
      "'c' argument looks like a single numeric RGB or RGBA sequence, which should be avoided as value-mapping will have precedence in case its length matches with 'x' & 'y'.  Please use a 2-D array with a single row if you really want to specify the same RGB or RGBA value for all points.\n"
     ]
    },
    {
     "name": "stdout",
     "output_type": "stream",
     "text": [
      "[3.868e-06]\n",
      "Discriminator trainLoss = -0.010578 valLoss = -0.020307 trainAcc = 0.284722 valAcc = 138.166656\n",
      "Encoder trainLoss = -0.085932 valLoss = -0.066530 trainAcc = 0.861111 valAcc = -47.000000\n",
      "Decoder trainLoss = 0.681345 valLoss = 0.691004 trainAcc = 0.828939 valAcc = 0.828940\n",
      "Epoch 45\n"
     ]
    },
    {
     "name": "stderr",
     "output_type": "stream",
     "text": [
      "'c' argument looks like a single numeric RGB or RGBA sequence, which should be avoided as value-mapping will have precedence in case its length matches with 'x' & 'y'.  Please use a 2-D array with a single row if you really want to specify the same RGB or RGBA value for all points.\n",
      "'c' argument looks like a single numeric RGB or RGBA sequence, which should be avoided as value-mapping will have precedence in case its length matches with 'x' & 'y'.  Please use a 2-D array with a single row if you really want to specify the same RGB or RGBA value for all points.\n",
      "'c' argument looks like a single numeric RGB or RGBA sequence, which should be avoided as value-mapping will have precedence in case its length matches with 'x' & 'y'.  Please use a 2-D array with a single row if you really want to specify the same RGB or RGBA value for all points.\n"
     ]
    },
    {
     "name": "stdout",
     "output_type": "stream",
     "text": [
      "[3.865e-06]\n",
      "Discriminator trainLoss = -0.010328 valLoss = -0.021028 trainAcc = 0.284316 valAcc = 138.500000\n",
      "Encoder trainLoss = -0.086667 valLoss = -0.066755 trainAcc = 0.862736 valAcc = -47.666668\n",
      "Decoder trainLoss = 0.681324 valLoss = 0.691002 trainAcc = 0.828935 valAcc = 0.828938\n",
      "Epoch 46\n"
     ]
    },
    {
     "name": "stderr",
     "output_type": "stream",
     "text": [
      "'c' argument looks like a single numeric RGB or RGBA sequence, which should be avoided as value-mapping will have precedence in case its length matches with 'x' & 'y'.  Please use a 2-D array with a single row if you really want to specify the same RGB or RGBA value for all points.\n",
      "'c' argument looks like a single numeric RGB or RGBA sequence, which should be avoided as value-mapping will have precedence in case its length matches with 'x' & 'y'.  Please use a 2-D array with a single row if you really want to specify the same RGB or RGBA value for all points.\n",
      "'c' argument looks like a single numeric RGB or RGBA sequence, which should be avoided as value-mapping will have precedence in case its length matches with 'x' & 'y'.  Please use a 2-D array with a single row if you really want to specify the same RGB or RGBA value for all points.\n"
     ]
    },
    {
     "name": "stdout",
     "output_type": "stream",
     "text": [
      "[3.862e-06]\n",
      "Discriminator trainLoss = -0.010114 valLoss = -0.020633 trainAcc = 0.283869 valAcc = 138.500000\n",
      "Encoder trainLoss = -0.086897 valLoss = -0.066739 trainAcc = 0.864522 valAcc = -47.666668\n",
      "Decoder trainLoss = 0.681382 valLoss = 0.690908 trainAcc = 0.828933 valAcc = 0.828935\n",
      "Epoch 47\n"
     ]
    },
    {
     "name": "stderr",
     "output_type": "stream",
     "text": [
      "'c' argument looks like a single numeric RGB or RGBA sequence, which should be avoided as value-mapping will have precedence in case its length matches with 'x' & 'y'.  Please use a 2-D array with a single row if you really want to specify the same RGB or RGBA value for all points.\n",
      "'c' argument looks like a single numeric RGB or RGBA sequence, which should be avoided as value-mapping will have precedence in case its length matches with 'x' & 'y'.  Please use a 2-D array with a single row if you really want to specify the same RGB or RGBA value for all points.\n",
      "'c' argument looks like a single numeric RGB or RGBA sequence, which should be avoided as value-mapping will have precedence in case its length matches with 'x' & 'y'.  Please use a 2-D array with a single row if you really want to specify the same RGB or RGBA value for all points.\n"
     ]
    },
    {
     "name": "stdout",
     "output_type": "stream",
     "text": [
      "[3.859e-06]\n",
      "Discriminator trainLoss = -0.009915 valLoss = -0.020210 trainAcc = 0.283707 valAcc = 138.666656\n",
      "Encoder trainLoss = -0.087033 valLoss = -0.066610 trainAcc = 0.865172 valAcc = -48.000000\n",
      "Decoder trainLoss = 0.681623 valLoss = 0.691253 trainAcc = 0.828930 valAcc = 0.828931\n",
      "Epoch 48\n"
     ]
    },
    {
     "name": "stderr",
     "output_type": "stream",
     "text": [
      "'c' argument looks like a single numeric RGB or RGBA sequence, which should be avoided as value-mapping will have precedence in case its length matches with 'x' & 'y'.  Please use a 2-D array with a single row if you really want to specify the same RGB or RGBA value for all points.\n",
      "'c' argument looks like a single numeric RGB or RGBA sequence, which should be avoided as value-mapping will have precedence in case its length matches with 'x' & 'y'.  Please use a 2-D array with a single row if you really want to specify the same RGB or RGBA value for all points.\n",
      "'c' argument looks like a single numeric RGB or RGBA sequence, which should be avoided as value-mapping will have precedence in case its length matches with 'x' & 'y'.  Please use a 2-D array with a single row if you really want to specify the same RGB or RGBA value for all points.\n"
     ]
    },
    {
     "name": "stdout",
     "output_type": "stream",
     "text": [
      "[3.856e-06]\n",
      "Discriminator trainLoss = -0.009353 valLoss = -0.020552 trainAcc = 0.283301 valAcc = 138.166656\n",
      "Encoder trainLoss = -0.087939 valLoss = -0.067259 trainAcc = 0.866797 valAcc = -47.000000\n",
      "Decoder trainLoss = 0.681694 valLoss = 0.691311 trainAcc = 0.828926 valAcc = 0.828927\n",
      "Epoch 49\n"
     ]
    },
    {
     "name": "stderr",
     "output_type": "stream",
     "text": [
      "'c' argument looks like a single numeric RGB or RGBA sequence, which should be avoided as value-mapping will have precedence in case its length matches with 'x' & 'y'.  Please use a 2-D array with a single row if you really want to specify the same RGB or RGBA value for all points.\n",
      "'c' argument looks like a single numeric RGB or RGBA sequence, which should be avoided as value-mapping will have precedence in case its length matches with 'x' & 'y'.  Please use a 2-D array with a single row if you really want to specify the same RGB or RGBA value for all points.\n",
      "'c' argument looks like a single numeric RGB or RGBA sequence, which should be avoided as value-mapping will have precedence in case its length matches with 'x' & 'y'.  Please use a 2-D array with a single row if you really want to specify the same RGB or RGBA value for all points.\n"
     ]
    },
    {
     "name": "stdout",
     "output_type": "stream",
     "text": [
      "[3.853e-06]\n",
      "Discriminator trainLoss = -0.010117 valLoss = -0.020977 trainAcc = 0.282732 valAcc = 138.833328\n",
      "Encoder trainLoss = -0.087448 valLoss = -0.066905 trainAcc = 0.868746 valAcc = -48.333332\n",
      "Decoder trainLoss = 0.681550 valLoss = 0.691070 trainAcc = 0.828922 valAcc = 0.828924\n",
      "Epoch 50\n",
      "(1000, 2)\n",
      "(1000, 2)\n",
      "(1000, 2)\n"
     ]
    }
   ],
   "source": [
    "vi0 = view.View_scatter(prop='psa')\n",
    "if __name__ is '__main__':\n",
    "    os.environ[\"CUDA_VISIBLE_DEVICES\"]=\"0\"\n",
    "    train(vi0,r'/gpu:0', True, 'Morgan','alogp', 512,nclass=3)\n",
    "    \n",
    "    p0 = Process(target=train, args=(None,r'/gpu:0', True, 'Morgan','psa',512,2)) \n",
    "    p1 = Process(target=train, args=(vi0,r'/gpu:0', True, 'Morgan','psa',512,3))\n",
    "    p2 = Process(target=train, args=(vi0,r'/gpu:0', True, 'Morgan','psa',512,5))\n",
    "    \n",
    "    p3 = Process(target=train, args=(None,r'/gpu:0', True, 'Morgan','alogp',512,2)) \n",
    "    p4 = Process(target=train, args=(None,r'/gpu:0', True, 'Morgan','alogp',512,3)) \n",
    "    p5 = Process(target=train, args=(None,r'/gpu:0', True, 'Maccs','alogp',512,5))\n",
    "    \n",
    "    os.environ[\"CUDA_VISIBLE_DEVICES\"]=\"0\"\n",
    "    #p0.start()\n",
    "    #p1.start()\n",
    "    #p2.start()\n",
    "    os.environ[\"CUDA_VISIBLE_DEVICES\"]=\"1\"\n",
    "    #p3.start()\n",
    "    #p4.start()\n",
    "    #p5.start()\n",
    "    \n",
    "    \n",
    "    #p0.join()\n",
    "    #p1.join()\n",
    "    #p2.join()\n",
    "    #p3.join()\n",
    "    #p4.join()\n",
    "    #p5.join()"
   ]
  },
  {
   "cell_type": "markdown",
   "metadata": {},
   "source": []
  }
 ],
 "metadata": {
  "kernelspec": {
   "display_name": "Python 3",
   "language": "python",
   "name": "python3"
  },
  "language_info": {
   "codemirror_mode": {
    "name": "ipython",
    "version": 3
   },
   "file_extension": ".py",
   "mimetype": "text/x-python",
   "name": "python",
   "nbconvert_exporter": "python",
   "pygments_lexer": "ipython3",
   "version": "3.6.8"
  }
 },
 "nbformat": 4,
 "nbformat_minor": 2
}
