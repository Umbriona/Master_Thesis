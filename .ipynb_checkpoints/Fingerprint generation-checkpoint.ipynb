{
 "cells": [
  {
   "cell_type": "markdown",
   "metadata": {},
   "source": [
    "### Data config"
   ]
  },
  {
   "cell_type": "code",
   "execution_count": 5,
   "metadata": {},
   "outputs": [],
   "source": [
    "## Imoprted libraries\n",
    "import numpy as np\n",
    "import pandas as pd\n",
    "from rdkit import Chem, DataStructs\n",
    "from rdkit.Chem import AllChem\n",
    "from sklearn.ensemble import RandomForestClassifier\n",
    "import mysql.connector\n",
    "from mysql.connector import Error\n"
   ]
  },
  {
   "cell_type": "code",
   "execution_count": null,
   "metadata": {},
   "outputs": [],
   "source": [
    "## Sample code MAgnus\n",
    "\n",
    " conn=mysql.connector.connect(host='localhost',database='chembl_24',user='root',password='')\n",
    "\n",
    " sql=\"select db_source,accession,standard_units,published_type, value, relation \\\n",
    " ,compound_structures.canonical_smiles \\\n",
    "    from activities, assays \\\n",
    "    , target_components, component_sequences \\\n",
    "    , compound_structures \\ \n",
    "   where published_type = 'IC50' \\\n",
    "    and activities.assay_id = assays.assay_id \\\n",
    "    and assays.tid=target_components.tid \\\n",
    "    and assay_tax_id = 9606 \\\n",
    "    and target_components.component_id = component_sequences.component_id \\\n",
    "    and activities.molregno=compound_structures.molregno \\\n",
    "    and accession in ('Q12809','Q13547','P35968','P00533','P56817')\"\n",
    "\n",
    " cursor = conn.cursor()\n",
    " cursor.execute(sql)\n",
    " rows = cursor.fetchall() \n",
    "\n",
    " print('Total Row(s):', cursor.rowcount)\n",
    " c=0\n",
    " res_l=[]\n",
    " for row in rows:\n",
    "     res_l.append({\"accesson\": row[1]\n",
    "                   , \"std_units\":row[2]\n",
    "                   ,\"published_type\":row[3]\n",
    "                   , \"value\":row[4]\n",
    "                   ,\"relation\":row[5]\n",
    "                   ,\"smiles\":row[6]\n",
    "                  })\n",
    "\n",
    " res_df=pd.DataFrame(res_l)\n",
    "\n",
    " #Calculate Fingerprints\n",
    " def morgan_fp(smiles):\n",
    "  mol = Chem.MolFromSmiles(smiles)\n",
    "  fp = AllChem.GetMorganFingerprintAsBitVect(mol,3, nBits=8192)\n",
    "  npfp = np.array(list(fp.ToBitString())).astype('int8')\n",
    "  return npfp\n",
    "\n",
    " #generate fingerprints\n",
    " res_df[fp] = res_df[\"smiles\"].apply(morgan_fp)\n",
    "\n",
    " #map accession trings to int and filter some. Needs more filtering\n",
    " mymap = {'P00533':1, 'P35968':2, 'P56817':3, 'Q12809':4, 'Q13547':5}\n",
    " filt_df[\"accesson_int\"]=filt_df[\"accesson\"].map(mymap)\n",
    " ytrain=np.where(filt_df[\"relation\"].isin([\"=\",\"<\"]),filt_df[\"accesson_int\"],0)\n",
    "\n",
    " #shuffle\n",
    " indices = np.arange(X_train.shape[0])\n",
    " np.random.shuffle(indices)\n",
    " X_train = X_train[indices]\n",
    " ytrain = ytrain[indices]\n"
   ]
  },
  {
   "cell_type": "code",
   "execution_count": 83,
   "metadata": {},
   "outputs": [
    {
     "name": "stdout",
     "output_type": "stream",
     "text": [
      "Connected to MySQL database... MySQL Server version on  5.7.25-0ubuntu0.18.04.2\n",
      "Your connected to -  ('chembl_24',)\n",
      "(8308, 3)\n",
      "Total Row(s): 8308\n"
     ]
    }
   ],
   "source": [
    "## mysql interface\n",
    "\n",
    "#Connecting to mysql-server\n",
    "try:\n",
    "    connection = mysql.connector.connect(host='localhost',\n",
    "                             database='chembl_24',\n",
    "                             user='sandra',\n",
    "                             password='H@(m31fy0uCan@Cyb3r(0m')\n",
    "    if connection.is_connected():\n",
    "       db_Info = connection.get_server_info()\n",
    "       print(\"Connected to MySQL database... MySQL Server version on \",db_Info)\n",
    "       cursor = connection.cursor()\n",
    "       cursor.execute(\"select database();\")\n",
    "       record = cursor.fetchone()\n",
    "       print (\"Your connected to - \", record)\n",
    "except Error as e :\n",
    "    print (\"Error while connecting to MySQL\", e)\n",
    "\n",
    "# mysql query    \n",
    "sql=r\"\"\"SELECT type, standard_value, compound_structures.canonical_smiles\n",
    "    FROM activities, compound_structures\n",
    "    WHERE type LIKE 'LD50'\n",
    "    AND standard_value<500\n",
    "\n",
    "    AND activities.molregno = compound_structures.molregno\n",
    "    \"\"\"\n",
    "    #and accession in ('Q12809','Q13547','P35968','P00533','P56817')\"\"\"\n",
    "\n",
    "cursor = connection.cursor()\n",
    "cursor.execute(sql)\n",
    "rows = cursor.fetchall() \n",
    "print(np.shape(rows))\n",
    "print('Total Row(s):', cursor.rowcount)\n",
    "c=0\n",
    "res_l=[]\n",
    "for row in rows:\n",
    " res_l.append({#\"accesson\": row[1]\n",
    "               #, \"std_units\":row[2]\n",
    "               #,\"published_type\":row[3]\n",
    "                \"Type\":row[0]\n",
    "                ,\"value\":row[1]\n",
    "               #,\"relation\":row[5]\n",
    "               ,\"smiles\":row[2]\n",
    "              })\n",
    "\n",
    "res_df=pd.DataFrame(res_l)"
   ]
  },
  {
   "cell_type": "code",
   "execution_count": 84,
   "metadata": {},
   "outputs": [
    {
     "name": "stdout",
     "output_type": "stream",
     "text": [
      "   Type                                             smiles  \\\n",
      "0  LD50                           Clc1ccc(cn1)C2CC3CCCC2N3   \n",
      "1  LD50  C[C@H]1COc2c(N3CCN(C)CC3)c(F)cc4C(=O)C(=CN1c24...   \n",
      "2  LD50  CC[C@H](C)[C@H]1O[C@@]2(C[C@@H]3C[C@@H](C\\C=C(...   \n",
      "3  LD50        NC(=O)c1nn(cp1)C2O[C@H](CO)[C@@H](O)[C@H]2O   \n",
      "4  LD50  N[C@@H](Cc1ccccc1)C(=O)N[C@@H](CCCNC(=N)N)C(=O...   \n",
      "\n",
      "                                value  \n",
      "0   10.000000000000000000000000000000  \n",
      "1  100.000000000000000000000000000000  \n",
      "2   19.000000000000000000000000000000  \n",
      "3  480.000000000000000000000000000000  \n",
      "4   25.000000000000000000000000000000  \n"
     ]
    }
   ],
   "source": [
    "\n",
    "print(res_df.head(5))"
   ]
  },
  {
   "cell_type": "code",
   "execution_count": 49,
   "metadata": {},
   "outputs": [],
   "source": [
    "##Generate fingerprints\n",
    "# generate four molecules\n",
    "m1 = Chem.MolFromSmiles('COc1ccc2[nH]cc(CCNC(=O)C)c2c1')\n",
    "m2 = Chem.MolFromSmiles('CN(CC=C)C\\C=C\\COc1ccc(cc1)c2nsc3cc(Br)ccc23')\n",
    "m3 = Chem.MolFromSmiles('CN(CCCCCCOc1ccc2c(coc2c1)c3ccc(Br)cc3)CC=C')\n",
    "m4 = Chem.MolFromSmiles('CN(CCCCCCOc1ccc(cc1)c2nsc3cc(Br)ccc23)CC=C')\n",
    "mols = [m1, m2, m3, m4]\n",
    "\n",
    "# generate fingeprints: Morgan fingerprint with radius 4\n",
    "fps = [AllChem.GetMorganFingerprintAsBitVect(m, 4, nBits=128) for m in mols]\n",
    "np_fps = []\n",
    "for fp in fps:\n",
    "  arr = np.zeros((1,))\n",
    "  DataStructs.ConvertToNumpyArray(fp, arr)\n",
    "  np_fps.append(arr)"
   ]
  },
  {
   "cell_type": "code",
   "execution_count": 50,
   "metadata": {},
   "outputs": [
    {
     "name": "stdout",
     "output_type": "stream",
     "text": [
      "(4, 128)\n",
      "60.0\n"
     ]
    }
   ],
   "source": [
    "print(np.shape(np_fps))\n",
    "print(np.sum(np_fps[3]))"
   ]
  },
  {
   "cell_type": "code",
   "execution_count": null,
   "metadata": {},
   "outputs": [],
   "source": []
  }
 ],
 "metadata": {
  "kernelspec": {
   "display_name": "Python 3",
   "language": "python",
   "name": "python3"
  },
  "language_info": {
   "codemirror_mode": {
    "name": "ipython",
    "version": 3
   },
   "file_extension": ".py",
   "mimetype": "text/x-python",
   "name": "python",
   "nbconvert_exporter": "python",
   "pygments_lexer": "ipython3",
   "version": "3.6.8"
  }
 },
 "nbformat": 4,
 "nbformat_minor": 2
}
