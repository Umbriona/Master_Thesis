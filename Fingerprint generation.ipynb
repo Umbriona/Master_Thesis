{
 "cells": [
  {
   "cell_type": "markdown",
   "metadata": {},
   "source": [
    "### Data config"
   ]
  },
  {
   "cell_type": "code",
   "execution_count": 1,
   "metadata": {},
   "outputs": [],
   "source": [
    "## Imoprted libraries\n",
    "\n",
    "# Data framework \n",
    "import numpy as np\n",
    "import pandas as pd\n",
    "\n",
    "# Molecule data\n",
    "from rdkit import Chem, DataStructs\n",
    "from rdkit.Chem import AllChem \n",
    "\n",
    "# Data Prep\n",
    "from sklearn.ensemble import RandomForestClassifier\n",
    "from sklearn.model_selection import train_test_split\n",
    "\n",
    "\n",
    "# For mysql\n",
    "import mysql.connector\n",
    "from mysql.connector import Error\n",
    "\n",
    "\n",
    "# For dealing with files\n",
    "import os\n",
    "import shutil\n",
    "\n",
    "# For using regex expressions\n",
    "import re\n",
    "\n",
    "# For splitting the data\n",
    "\n"
   ]
  },
  {
   "cell_type": "code",
   "execution_count": 2,
   "metadata": {},
   "outputs": [
    {
     "name": "stdout",
     "output_type": "stream",
     "text": [
      "Connected to MySQL database... MySQL Server version on  5.7.26-0ubuntu0.18.04.1\n",
      "Your connected to -  ('chembl_24',)\n",
      "(21261, 5)\n",
      "Total Row(s): 21261\n"
     ]
    }
   ],
   "source": [
    "## mysql interface\n",
    "\n",
    "#Connecting to mysql-server\n",
    "try:\n",
    "    connection = mysql.connector.connect(host='localhost',\n",
    "                             database='chembl_24',\n",
    "                             user='sandra',\n",
    "                             password='H@(m31fy0uCan@Cyb3r(0m')\n",
    "    if connection.is_connected():\n",
    "       db_Info = connection.get_server_info()\n",
    "       print(\"Connected to MySQL database... MySQL Server version on \",db_Info)\n",
    "       cursor = connection.cursor()\n",
    "       cursor.execute(\"select database();\")\n",
    "       record = cursor.fetchone()\n",
    "       print (\"Your connected to - \", record)\n",
    "except Error as e :\n",
    "    print (\"Error while connecting to MySQL\", e)\n",
    "\n",
    "f = open('SQL_queries/Plasmodium.txt', 'r')\n",
    "\n",
    "# mysql query    \n",
    "sql= f.read()\n",
    "    #and accession in ('Q12809','Q13547','P35968','P00533','P56817')\"\"\"\n",
    "\n",
    "cursor = connection.cursor()\n",
    "cursor.execute(sql)\n",
    "rows = cursor.fetchall() \n",
    "print(np.shape(rows))\n",
    "print('Total Row(s):', cursor.rowcount)\n",
    "c=0\n",
    "res_l=[]\n",
    "for row in rows:\n",
    "    res_l.append({\n",
    "                \"Unit\":row[0]\n",
    "                ,\"value\":row[1]\n",
    "                ,\"psa\":row[2]\n",
    "                ,\"alogp\":row[3]\n",
    "                ,\"smiles\":row[4]\n",
    "              })\n",
    "\n",
    "res_df=pd.DataFrame(res_l)"
   ]
  },
  {
   "cell_type": "code",
   "execution_count": 72,
   "metadata": {},
   "outputs": [],
   "source": [
    "##Generate fingerprints\n",
    "fps = np.zeros([cursor.rowcount])\n",
    "\n",
    "# generate fingeprints: Morgan fingerprint with radius 4\n",
    "fps = [AllChem.GetMorganFingerprintAsBitVect(Chem.MolFromSmiles(smile), 4, nBits=512) for num, smile in enumerate(res_df.smiles)]\n",
    "\n",
    "res_df['fingerprint'] = fps"
   ]
  },
  {
   "cell_type": "code",
   "execution_count": 3,
   "metadata": {},
   "outputs": [],
   "source": [
    "# Saving data frame to .csv\n",
    "path = r'/mnt/SSD1/Data/'\n",
    "res_df.to_csv(path + 'Plasmodium_Prop_data.csv')\n"
   ]
  },
  {
   "cell_type": "code",
   "execution_count": 76,
   "metadata": {},
   "outputs": [
    {
     "name": "stdout",
     "output_type": "stream",
     "text": [
      "[-1 -1 -1 -1 -1 -1 -1 -1 -1 -1 -1  1  1  1  1 -1 -1 -1 -1 -1 -1 -1 -1  1\n",
      " -1 -1 -1 -1 -1 -1 -1 -1 -1  1 -1 -1 -1  1 -1 -1 -1 -1 -1 -1 -1 -1 -1 -1\n",
      " -1 -1 -1 -1 -1 -1 -1 -1 -1 -1 -1 -1 -1 -1 -1 -1 -1  1 -1 -1 -1  1 -1 -1\n",
      " -1 -1 -1 -1 -1 -1 -1 -1 -1 -1 -1 -1 -1 -1 -1 -1 -1 -1 -1 -1 -1 -1 -1 -1\n",
      "  1 -1 -1 -1 -1 -1  1 -1 -1 -1 -1 -1 -1 -1 -1 -1  1 -1 -1 -1 -1 -1 -1 -1\n",
      " -1  1 -1 -1 -1  1 -1 -1 -1 -1 -1 -1 -1 -1 -1 -1 -1 -1  1 -1 -1 -1 -1 -1\n",
      "  1 -1  1 -1 -1 -1 -1 -1 -1 -1 -1 -1  1 -1 -1 -1 -1 -1 -1 -1 -1 -1 -1 -1\n",
      " -1 -1 -1 -1 -1 -1  1 -1 -1 -1 -1 -1 -1 -1 -1 -1 -1 -1 -1  1 -1 -1 -1  1\n",
      " -1  1 -1 -1 -1 -1 -1 -1 -1 -1 -1 -1 -1 -1 -1  1 -1 -1 -1 -1  1 -1 -1 -1\n",
      " -1 -1 -1 -1 -1 -1  1 -1 -1 -1 -1 -1 -1 -1 -1  1 -1 -1 -1 -1 -1 -1 -1 -1\n",
      " -1 -1  1 -1 -1  1 -1  1 -1 -1 -1 -1  1 -1 -1 -1 -1 -1  1 -1 -1  1  1 -1\n",
      " -1  1 -1 -1 -1 -1  1 -1 -1 -1 -1 -1 -1 -1 -1 -1 -1 -1 -1 -1 -1  1 -1 -1\n",
      " -1  1  1 -1 -1 -1  1  1 -1 -1 -1 -1 -1 -1 -1 -1  1 -1 -1 -1  1 -1 -1 -1\n",
      " -1  1  1 -1 -1 -1 -1 -1 -1 -1  1 -1 -1 -1 -1 -1 -1 -1 -1 -1  1  1 -1 -1\n",
      " -1  1 -1 -1 -1 -1 -1 -1 -1 -1 -1 -1 -1 -1 -1 -1 -1 -1 -1 -1  1 -1  1 -1\n",
      "  1  1 -1  1 -1 -1 -1 -1 -1 -1 -1 -1 -1 -1 -1 -1 -1 -1 -1 -1  1  1 -1 -1\n",
      " -1 -1 -1  1  1  1 -1 -1  1 -1 -1 -1 -1 -1 -1 -1 -1 -1 -1 -1 -1 -1 -1  1\n",
      " -1 -1 -1 -1 -1 -1  1 -1  1 -1 -1 -1 -1 -1 -1  1 -1 -1 -1 -1 -1 -1 -1 -1\n",
      " -1 -1 -1  1 -1 -1 -1 -1 -1  1 -1 -1 -1 -1 -1 -1 -1 -1 -1 -1 -1  1 -1  1\n",
      "  1 -1 -1 -1  1 -1 -1 -1  1 -1 -1 -1 -1 -1 -1 -1 -1 -1 -1 -1  1  1 -1 -1\n",
      " -1 -1 -1  1  1 -1 -1 -1 -1 -1 -1 -1 -1 -1 -1 -1 -1 -1 -1 -1 -1 -1 -1  1\n",
      " -1 -1 -1  1 -1  1 -1 -1]\n"
     ]
    }
   ],
   "source": [
    "df = pd.read_csv('/mnt/SSD1/Data/' + 'LD50_Test_data.csv')\n",
    "fps = np.array(list(res_df['fingerprint'][1].ToBitString())).astype('int8')\n",
    "fps =fps - (np.equal(fps,0))\n",
    "print(fps)"
   ]
  },
  {
   "cell_type": "code",
   "execution_count": 70,
   "metadata": {},
   "outputs": [
    {
     "name": "stdout",
     "output_type": "stream",
     "text": [
      "[1, 1, 1, 1]\n"
     ]
    }
   ],
   "source": [
    "f = np.zeros([4])\n",
    "f = [1 for num, x in enumerate(range(4))]\n",
    "print(f)"
   ]
  },
  {
   "cell_type": "code",
   "execution_count": null,
   "metadata": {},
   "outputs": [],
   "source": []
  }
 ],
 "metadata": {
  "kernelspec": {
   "display_name": "Python 3",
   "language": "python",
   "name": "python3"
  },
  "language_info": {
   "codemirror_mode": {
    "name": "ipython",
    "version": 3
   },
   "file_extension": ".py",
   "mimetype": "text/x-python",
   "name": "python",
   "nbconvert_exporter": "python",
   "pygments_lexer": "ipython3",
   "version": "3.6.8"
  }
 },
 "nbformat": 4,
 "nbformat_minor": 2
}
